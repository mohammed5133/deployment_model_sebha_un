{
 "cells": [
  {
   "cell_type": "code",
   "execution_count": 2,
   "metadata": {},
   "outputs": [],
   "source": [
    "##Load the necessary Libraries\n",
    "import numpy as np\n",
    "import pandas as pd\n",
    "# from pandas_datareader import data as web\n",
    "# import os\n",
    "import analysis_utils\n",
    "from scipy.stats import norm\n",
    "\n",
    "# from textblob import TextBlob\n",
    "import re\n",
    "import string\n",
    "\n",
    "import matplotlib.pyplot as plt\n",
    "plt.style.use('fivethirtyeight')\n",
    "import seaborn as sns\n",
    "sns.set_style('whitegrid')\n",
    "%matplotlib inline"
   ]
  },
  {
   "cell_type": "code",
   "execution_count": 51,
   "metadata": {},
   "outputs": [],
   "source": [
    "df = pd.read_excel('164798046034523.xlsx')"
   ]
  },
  {
   "cell_type": "code",
   "execution_count": 52,
   "metadata": {},
   "outputs": [
    {
     "name": "stdout",
     "output_type": "stream",
     "text": [
      "<class 'pandas.core.frame.DataFrame'>\n",
      "RangeIndex: 700 entries, 0 to 699\n",
      "Data columns (total 20 columns):\n",
      " #   Column            Non-Null Count  Dtype\n",
      "---  ------            --------------  -----\n",
      " 0   Gender            700 non-null    int64\n",
      " 1   High School       700 non-null    int64\n",
      " 2   Nationality       700 non-null    int64\n",
      " 3   secission  class  700 non-null    int64\n",
      " 4   Address           700 non-null    int64\n",
      " 5   Religion          700 non-null    int64\n",
      " 6   social status     700 non-null    int64\n",
      " 7   High School AVG   700 non-null    int64\n",
      " 8   q1                700 non-null    int64\n",
      " 9   q2                700 non-null    int64\n",
      " 10  q3                700 non-null    int64\n",
      " 11  q4                700 non-null    int64\n",
      " 12  q5                700 non-null    int64\n",
      " 13  q6                700 non-null    int64\n",
      " 14  q7                700 non-null    int64\n",
      " 15  q8                700 non-null    int64\n",
      " 16  q9                700 non-null    int64\n",
      " 17  q10               700 non-null    int64\n",
      " 18  q11               700 non-null    int64\n",
      " 19  class             700 non-null    int64\n",
      "dtypes: int64(20)\n",
      "memory usage: 109.5 KB\n"
     ]
    }
   ],
   "source": [
    "df.info()"
   ]
  },
  {
   "cell_type": "code",
   "execution_count": 53,
   "metadata": {},
   "outputs": [
    {
     "data": {
      "text/html": [
       "<div>\n",
       "<style scoped>\n",
       "    .dataframe tbody tr th:only-of-type {\n",
       "        vertical-align: middle;\n",
       "    }\n",
       "\n",
       "    .dataframe tbody tr th {\n",
       "        vertical-align: top;\n",
       "    }\n",
       "\n",
       "    .dataframe thead th {\n",
       "        text-align: right;\n",
       "    }\n",
       "</style>\n",
       "<table border=\"1\" class=\"dataframe\">\n",
       "  <thead>\n",
       "    <tr style=\"text-align: right;\">\n",
       "      <th></th>\n",
       "      <th>Gender</th>\n",
       "      <th>High School</th>\n",
       "      <th>Nationality</th>\n",
       "      <th>secission  class</th>\n",
       "      <th>Address</th>\n",
       "      <th>Religion</th>\n",
       "      <th>social status</th>\n",
       "      <th>High School AVG</th>\n",
       "      <th>q1</th>\n",
       "      <th>q2</th>\n",
       "      <th>q3</th>\n",
       "      <th>q4</th>\n",
       "      <th>q5</th>\n",
       "      <th>q6</th>\n",
       "      <th>q7</th>\n",
       "      <th>q8</th>\n",
       "      <th>q9</th>\n",
       "      <th>q10</th>\n",
       "      <th>q11</th>\n",
       "      <th>class</th>\n",
       "    </tr>\n",
       "  </thead>\n",
       "  <tbody>\n",
       "    <tr>\n",
       "      <th>0</th>\n",
       "      <td>2</td>\n",
       "      <td>1</td>\n",
       "      <td>1</td>\n",
       "      <td>1</td>\n",
       "      <td>2</td>\n",
       "      <td>1</td>\n",
       "      <td>1</td>\n",
       "      <td>3</td>\n",
       "      <td>1</td>\n",
       "      <td>2</td>\n",
       "      <td>1</td>\n",
       "      <td>6</td>\n",
       "      <td>5</td>\n",
       "      <td>1</td>\n",
       "      <td>5</td>\n",
       "      <td>1</td>\n",
       "      <td>3</td>\n",
       "      <td>1</td>\n",
       "      <td>2</td>\n",
       "      <td>6</td>\n",
       "    </tr>\n",
       "    <tr>\n",
       "      <th>1</th>\n",
       "      <td>2</td>\n",
       "      <td>2</td>\n",
       "      <td>1</td>\n",
       "      <td>1</td>\n",
       "      <td>1</td>\n",
       "      <td>1</td>\n",
       "      <td>2</td>\n",
       "      <td>2</td>\n",
       "      <td>1</td>\n",
       "      <td>2</td>\n",
       "      <td>1</td>\n",
       "      <td>6</td>\n",
       "      <td>4</td>\n",
       "      <td>1</td>\n",
       "      <td>5</td>\n",
       "      <td>4</td>\n",
       "      <td>3</td>\n",
       "      <td>1</td>\n",
       "      <td>2</td>\n",
       "      <td>6</td>\n",
       "    </tr>\n",
       "    <tr>\n",
       "      <th>2</th>\n",
       "      <td>2</td>\n",
       "      <td>1</td>\n",
       "      <td>2</td>\n",
       "      <td>1</td>\n",
       "      <td>2</td>\n",
       "      <td>1</td>\n",
       "      <td>1</td>\n",
       "      <td>2</td>\n",
       "      <td>1</td>\n",
       "      <td>2</td>\n",
       "      <td>2</td>\n",
       "      <td>3</td>\n",
       "      <td>6</td>\n",
       "      <td>1</td>\n",
       "      <td>5</td>\n",
       "      <td>4</td>\n",
       "      <td>1</td>\n",
       "      <td>2</td>\n",
       "      <td>2</td>\n",
       "      <td>6</td>\n",
       "    </tr>\n",
       "    <tr>\n",
       "      <th>3</th>\n",
       "      <td>2</td>\n",
       "      <td>1</td>\n",
       "      <td>1</td>\n",
       "      <td>1</td>\n",
       "      <td>2</td>\n",
       "      <td>1</td>\n",
       "      <td>1</td>\n",
       "      <td>3</td>\n",
       "      <td>1</td>\n",
       "      <td>2</td>\n",
       "      <td>2</td>\n",
       "      <td>4</td>\n",
       "      <td>4</td>\n",
       "      <td>1</td>\n",
       "      <td>5</td>\n",
       "      <td>4</td>\n",
       "      <td>1</td>\n",
       "      <td>1</td>\n",
       "      <td>2</td>\n",
       "      <td>6</td>\n",
       "    </tr>\n",
       "    <tr>\n",
       "      <th>4</th>\n",
       "      <td>1</td>\n",
       "      <td>1</td>\n",
       "      <td>1</td>\n",
       "      <td>1</td>\n",
       "      <td>2</td>\n",
       "      <td>1</td>\n",
       "      <td>1</td>\n",
       "      <td>3</td>\n",
       "      <td>2</td>\n",
       "      <td>2</td>\n",
       "      <td>2</td>\n",
       "      <td>2</td>\n",
       "      <td>2</td>\n",
       "      <td>1</td>\n",
       "      <td>5</td>\n",
       "      <td>4</td>\n",
       "      <td>3</td>\n",
       "      <td>1</td>\n",
       "      <td>2</td>\n",
       "      <td>6</td>\n",
       "    </tr>\n",
       "  </tbody>\n",
       "</table>\n",
       "</div>"
      ],
      "text/plain": [
       "   Gender  High School  Nationality  secission  class  Address  Religion  \\\n",
       "0       2            1            1                 1        2         1   \n",
       "1       2            2            1                 1        1         1   \n",
       "2       2            1            2                 1        2         1   \n",
       "3       2            1            1                 1        2         1   \n",
       "4       1            1            1                 1        2         1   \n",
       "\n",
       "   social status  High School AVG  q1  q2  q3  q4  q5  q6  q7  q8  q9  q10  \\\n",
       "0              1                3   1   2   1   6   5   1   5   1   3    1   \n",
       "1              2                2   1   2   1   6   4   1   5   4   3    1   \n",
       "2              1                2   1   2   2   3   6   1   5   4   1    2   \n",
       "3              1                3   1   2   2   4   4   1   5   4   1    1   \n",
       "4              1                3   2   2   2   2   2   1   5   4   3    1   \n",
       "\n",
       "   q11  class  \n",
       "0    2      6  \n",
       "1    2      6  \n",
       "2    2      6  \n",
       "3    2      6  \n",
       "4    2      6  "
      ]
     },
     "execution_count": 53,
     "metadata": {},
     "output_type": "execute_result"
    }
   ],
   "source": [
    "df.head(5)"
   ]
  },
  {
   "cell_type": "code",
   "execution_count": 54,
   "metadata": {},
   "outputs": [
    {
     "data": {
      "text/plain": [
       "(700, 20)"
      ]
     },
     "execution_count": 54,
     "metadata": {},
     "output_type": "execute_result"
    }
   ],
   "source": [
    "df.shape"
   ]
  },
  {
   "cell_type": "code",
   "execution_count": 55,
   "metadata": {},
   "outputs": [
    {
     "data": {
      "text/plain": [
       "Text(0.5, 1.0, 'STU - Gender')"
      ]
     },
     "execution_count": 55,
     "metadata": {},
     "output_type": "execute_result"
    },
    {
     "data": {
      "image/png": "[encoded data removed]",
      "text/plain": [
       "<Figure size 432x288 with 1 Axes>"
      ]
     },
     "metadata": {
      "needs_background": "light"
     },
     "output_type": "display_data"
    }
   ],
   "source": [
    "sns.countplot(data=df, x='Gender',).set_title(\"STU - Gender\")"
   ]
  },
  {
   "cell_type": "code",
   "execution_count": 56,
   "metadata": {},
   "outputs": [
    {
     "data": {
      "text/plain": [
       "2    366\n",
       "1    334\n",
       "Name: Gender, dtype: int64"
      ]
     },
     "execution_count": 56,
     "metadata": {},
     "output_type": "execute_result"
    }
   ],
   "source": [
    "df['Gender'].value_counts()"
   ]
  },
  {
   "cell_type": "code",
   "execution_count": 57,
   "metadata": {},
   "outputs": [
    {
     "data": {
      "text/plain": [
       "Text(0.5, 1.0, 'STU - High School')"
      ]
     },
     "execution_count": 57,
     "metadata": {},
     "output_type": "execute_result"
    },
    {
     "data": {
      "image/png": "[encoded data removed]",
      "text/plain": [
       "<Figure size 432x288 with 1 Axes>"
      ]
     },
     "metadata": {
      "needs_background": "light"
     },
     "output_type": "display_data"
    }
   ],
   "source": [
    "sns.countplot(data=df, x='High School',).set_title(\"STU - High School\")"
   ]
  },
  {
   "cell_type": "code",
   "execution_count": 58,
   "metadata": {
    "scrolled": false
   },
   "outputs": [
    {
     "data": {
      "text/plain": [
       "2    424\n",
       "1    276\n",
       "Name: High School, dtype: int64"
      ]
     },
     "execution_count": 58,
     "metadata": {},
     "output_type": "execute_result"
    }
   ],
   "source": [
    "df['High School'].value_counts()"
   ]
  },
  {
   "cell_type": "code",
   "execution_count": 59,
   "metadata": {},
   "outputs": [
    {
     "data": {
      "text/plain": [
       "Text(0.5, 1.0, 'STU - Nationality')"
      ]
     },
     "execution_count": 59,
     "metadata": {},
     "output_type": "execute_result"
    },
    {
     "data": {
      "image/png": "[encoded data removed]",
      "text/plain": [
       "<Figure size 432x288 with 1 Axes>"
      ]
     },
     "metadata": {
      "needs_background": "light"
     },
     "output_type": "display_data"
    }
   ],
   "source": [
    "sns.countplot(data=df, x='Nationality',).set_title(\"STU - Nationality\")"
   ]
  },
  {
   "cell_type": "code",
   "execution_count": 60,
   "metadata": {},
   "outputs": [
    {
     "data": {
      "text/plain": [
       "1    599\n",
       "2    101\n",
       "Name: Nationality, dtype: int64"
      ]
     },
     "execution_count": 60,
     "metadata": {},
     "output_type": "execute_result"
    }
   ],
   "source": [
    "df['Nationality'].value_counts()"
   ]
  },
  {
   "cell_type": "code",
   "execution_count": 61,
   "metadata": {},
   "outputs": [
    {
     "data": {
      "text/plain": [
       "Text(0.5, 1.0, 'STU - secission  class')"
      ]
     },
     "execution_count": 61,
     "metadata": {},
     "output_type": "execute_result"
    },
    {
     "data": {
      "image/png": "[encoded data removed]",
      "text/plain": [
       "<Figure size 432x288 with 1 Axes>"
      ]
     },
     "metadata": {
      "needs_background": "light"
     },
     "output_type": "display_data"
    }
   ],
   "source": [
    "sns.countplot(data=df, x='secission  class',).set_title(\"STU - secission  class\")"
   ]
  },
  {
   "cell_type": "code",
   "execution_count": 62,
   "metadata": {},
   "outputs": [
    {
     "data": {
      "text/plain": [
       "1    500\n",
       "2    200\n",
       "Name: secission  class, dtype: int64"
      ]
     },
     "execution_count": 62,
     "metadata": {},
     "output_type": "execute_result"
    }
   ],
   "source": [
    "df['secission  class'].value_counts()"
   ]
  },
  {
   "cell_type": "code",
   "execution_count": 63,
   "metadata": {},
   "outputs": [
    {
     "data": {
      "text/plain": [
       "Text(0.5, 1.0, 'STU - Address')"
      ]
     },
     "execution_count": 63,
     "metadata": {},
     "output_type": "execute_result"
    },
    {
     "data": {
      "image/png": "[encoded data removed]",
      "text/plain": [
       "<Figure size 432x288 with 1 Axes>"
      ]
     },
     "metadata": {
      "needs_background": "light"
     },
     "output_type": "display_data"
    }
   ],
   "source": [
    "sns.countplot(data=df, x='Address',).set_title(\"STU - Address\")"
   ]
  },
  {
   "cell_type": "code",
   "execution_count": 64,
   "metadata": {
    "scrolled": true
   },
   "outputs": [
    {
     "data": {
      "text/plain": [
       "2    393\n",
       "1    307\n",
       "Name: Address, dtype: int64"
      ]
     },
     "execution_count": 64,
     "metadata": {},
     "output_type": "execute_result"
    }
   ],
   "source": [
    "df['Address'].value_counts()"
   ]
  },
  {
   "cell_type": "code",
   "execution_count": 65,
   "metadata": {},
   "outputs": [
    {
     "data": {
      "text/plain": [
       "Text(0.5, 1.0, 'STU - Religion')"
      ]
     },
     "execution_count": 65,
     "metadata": {},
     "output_type": "execute_result"
    },
    {
     "data": {
      "image/png": "[encoded data removed]",
      "text/plain": [
       "<Figure size 432x288 with 1 Axes>"
      ]
     },
     "metadata": {
      "needs_background": "light"
     },
     "output_type": "display_data"
    }
   ],
   "source": [
    "sns.countplot(data=df, x='Religion',).set_title(\"STU - Religion\")"
   ]
  },
  {
   "cell_type": "code",
   "execution_count": 66,
   "metadata": {},
   "outputs": [
    {
     "data": {
      "text/plain": [
       "1    700\n",
       "Name: Religion, dtype: int64"
      ]
     },
     "execution_count": 66,
     "metadata": {},
     "output_type": "execute_result"
    }
   ],
   "source": [
    "df['Religion'].value_counts()"
   ]
  },
  {
   "cell_type": "code",
   "execution_count": 67,
   "metadata": {},
   "outputs": [
    {
     "data": {
      "text/plain": [
       "Text(0.5, 1.0, 'STU - social status')"
      ]
     },
     "execution_count": 67,
     "metadata": {},
     "output_type": "execute_result"
    },
    {
     "data": {
      "image/png": "[encoded data removed]",
      "text/plain": [
       "<Figure size 432x288 with 1 Axes>"
      ]
     },
     "metadata": {
      "needs_background": "light"
     },
     "output_type": "display_data"
    }
   ],
   "source": [
    "sns.countplot(data=df, x='social status',).set_title(\"STU - social status\")"
   ]
  },
  {
   "cell_type": "code",
   "execution_count": 68,
   "metadata": {},
   "outputs": [
    {
     "data": {
      "text/plain": [
       "1    643\n",
       "2     41\n",
       "3     16\n",
       "Name: social status, dtype: int64"
      ]
     },
     "execution_count": 68,
     "metadata": {},
     "output_type": "execute_result"
    }
   ],
   "source": [
    "df['social status'].value_counts()"
   ]
  },
  {
   "cell_type": "code",
   "execution_count": 97,
   "metadata": {},
   "outputs": [
    {
     "data": {
      "text/plain": [
       "Text(0.5, 1.0, 'STU - High School AVG')"
      ]
     },
     "execution_count": 97,
     "metadata": {},
     "output_type": "execute_result"
    },
    {
     "data": {
      "image/png": "[encoded data removed]",
      "text/plain": [
       "<Figure size 432x288 with 1 Axes>"
      ]
     },
     "metadata": {
      "needs_background": "light"
     },
     "output_type": "display_data"
    }
   ],
   "source": [
    "sns.countplot(data=df, x='High School AVG',).set_title(\"STU - High School AVG\")"
   ]
  },
  {
   "cell_type": "code",
   "execution_count": 69,
   "metadata": {},
   "outputs": [
    {
     "data": {
      "text/plain": [
       "3    279\n",
       "2    195\n",
       "4    165\n",
       "1     61\n",
       "Name: High School AVG, dtype: int64"
      ]
     },
     "execution_count": 69,
     "metadata": {},
     "output_type": "execute_result"
    }
   ],
   "source": [
    "df['High School AVG'].value_counts()"
   ]
  },
  {
   "cell_type": "code",
   "execution_count": 99,
   "metadata": {},
   "outputs": [
    {
     "data": {
      "text/plain": [
       "Text(0.5, 1.0, 'STU - Q1')"
      ]
     },
     "execution_count": 99,
     "metadata": {},
     "output_type": "execute_result"
    },
    {
     "data": {
      "image/png": "[encoded data removed]",
      "text/plain": [
       "<Figure size 432x288 with 1 Axes>"
      ]
     },
     "metadata": {
      "needs_background": "light"
     },
     "output_type": "display_data"
    }
   ],
   "source": [
    "sns.countplot(data=df, x='q1',).set_title(\"STU - Q1\")"
   ]
  },
  {
   "cell_type": "code",
   "execution_count": 70,
   "metadata": {
    "scrolled": true
   },
   "outputs": [
    {
     "data": {
      "text/plain": [
       "1    349\n",
       "4    264\n",
       "2     62\n",
       "3     25\n",
       "Name: q1, dtype: int64"
      ]
     },
     "execution_count": 70,
     "metadata": {},
     "output_type": "execute_result"
    }
   ],
   "source": [
    "df['Q1'].value_counts()"
   ]
  },
  {
   "cell_type": "code",
   "execution_count": 100,
   "metadata": {},
   "outputs": [
    {
     "data": {
      "text/plain": [
       "Text(0.5, 1.0, 'STU - Q2')"
      ]
     },
     "execution_count": 100,
     "metadata": {},
     "output_type": "execute_result"
    },
    {
     "data": {
      "image/png": "[encoded data removed]",
      "text/plain": [
       "<Figure size 432x288 with 1 Axes>"
      ]
     },
     "metadata": {
      "needs_background": "light"
     },
     "output_type": "display_data"
    }
   ],
   "source": [
    "sns.countplot(data=df, x='q2',).set_title(\"STU - Q2\")"
   ]
  },
  {
   "cell_type": "code",
   "execution_count": 71,
   "metadata": {},
   "outputs": [
    {
     "data": {
      "text/plain": [
       "1    490\n",
       "2    210\n",
       "Name: q2, dtype: int64"
      ]
     },
     "execution_count": 71,
     "metadata": {},
     "output_type": "execute_result"
    }
   ],
   "source": [
    "df['q2'].value_counts()"
   ]
  },
  {
   "cell_type": "code",
   "execution_count": 101,
   "metadata": {},
   "outputs": [
    {
     "data": {
      "text/plain": [
       "Text(0.5, 1.0, 'STU - Q3')"
      ]
     },
     "execution_count": 101,
     "metadata": {},
     "output_type": "execute_result"
    },
    {
     "data": {
      "image/png": "[encoded data removed]",
      "text/plain": [
       "<Figure size 432x288 with 1 Axes>"
      ]
     },
     "metadata": {
      "needs_background": "light"
     },
     "output_type": "display_data"
    }
   ],
   "source": [
    "sns.countplot(data=df, x='q3',).set_title(\"STU - Q3\")"
   ]
  },
  {
   "cell_type": "code",
   "execution_count": 72,
   "metadata": {},
   "outputs": [
    {
     "data": {
      "text/plain": [
       "2    487\n",
       "1    213\n",
       "Name: q3, dtype: int64"
      ]
     },
     "execution_count": 72,
     "metadata": {},
     "output_type": "execute_result"
    }
   ],
   "source": [
    "df['q3'].value_counts()"
   ]
  },
  {
   "cell_type": "code",
   "execution_count": 102,
   "metadata": {},
   "outputs": [
    {
     "data": {
      "text/plain": [
       "Text(0.5, 1.0, 'STU - Q4')"
      ]
     },
     "execution_count": 102,
     "metadata": {},
     "output_type": "execute_result"
    },
    {
     "data": {
      "image/png": "[encoded data removed]",
      "text/plain": [
       "<Figure size 432x288 with 1 Axes>"
      ]
     },
     "metadata": {
      "needs_background": "light"
     },
     "output_type": "display_data"
    }
   ],
   "source": [
    "sns.countplot(data=df, x='q4',).set_title(\"STU - Q4\")"
   ]
  },
  {
   "cell_type": "code",
   "execution_count": 73,
   "metadata": {},
   "outputs": [
    {
     "data": {
      "text/plain": [
       "6    322\n",
       "5    152\n",
       "4     83\n",
       "3     57\n",
       "1     44\n",
       "2     42\n",
       "Name: q4, dtype: int64"
      ]
     },
     "execution_count": 73,
     "metadata": {},
     "output_type": "execute_result"
    }
   ],
   "source": [
    "df['q4'].value_counts()"
   ]
  },
  {
   "cell_type": "code",
   "execution_count": 103,
   "metadata": {},
   "outputs": [
    {
     "data": {
      "text/plain": [
       "Text(0.5, 1.0, 'STU - Q5')"
      ]
     },
     "execution_count": 103,
     "metadata": {},
     "output_type": "execute_result"
    },
    {
     "data": {
      "image/png": "[encoded data removed]",
      "text/plain": [
       "<Figure size 432x288 with 1 Axes>"
      ]
     },
     "metadata": {
      "needs_background": "light"
     },
     "output_type": "display_data"
    }
   ],
   "source": [
    "sns.countplot(data=df, x='q5',).set_title(\"STU - Q5\")"
   ]
  },
  {
   "cell_type": "code",
   "execution_count": 74,
   "metadata": {},
   "outputs": [
    {
     "data": {
      "text/plain": [
       "5    407\n",
       "4    102\n",
       "3     66\n",
       "2     45\n",
       "1     43\n",
       "6     37\n",
       "Name: q5, dtype: int64"
      ]
     },
     "execution_count": 74,
     "metadata": {},
     "output_type": "execute_result"
    }
   ],
   "source": [
    "df['q5'].value_counts()"
   ]
  },
  {
   "cell_type": "code",
   "execution_count": 104,
   "metadata": {},
   "outputs": [
    {
     "data": {
      "text/plain": [
       "Text(0.5, 1.0, 'STU - Q6')"
      ]
     },
     "execution_count": 104,
     "metadata": {},
     "output_type": "execute_result"
    },
    {
     "data": {
      "image/png": "[encoded data removed]",
      "text/plain": [
       "<Figure size 432x288 with 1 Axes>"
      ]
     },
     "metadata": {
      "needs_background": "light"
     },
     "output_type": "display_data"
    }
   ],
   "source": [
    "sns.countplot(data=df, x='q6',).set_title(\"STU - Q6\")"
   ]
  },
  {
   "cell_type": "code",
   "execution_count": 75,
   "metadata": {
    "scrolled": true
   },
   "outputs": [
    {
     "data": {
      "text/plain": [
       "1    355\n",
       "2    345\n",
       "Name: q6, dtype: int64"
      ]
     },
     "execution_count": 75,
     "metadata": {},
     "output_type": "execute_result"
    }
   ],
   "source": [
    "df['q6'].value_counts()"
   ]
  },
  {
   "cell_type": "code",
   "execution_count": 105,
   "metadata": {},
   "outputs": [
    {
     "data": {
      "text/plain": [
       "Text(0.5, 1.0, 'STU - Q6')"
      ]
     },
     "execution_count": 105,
     "metadata": {},
     "output_type": "execute_result"
    },
    {
     "data": {
      "image/png": "[encoded data removed]",
      "text/plain": [
       "<Figure size 432x288 with 1 Axes>"
      ]
     },
     "metadata": {
      "needs_background": "light"
     },
     "output_type": "display_data"
    }
   ],
   "source": [
    "sns.countplot(data=df, x='q7',).set_title(\"STU - Q6\")"
   ]
  },
  {
   "cell_type": "code",
   "execution_count": 76,
   "metadata": {
    "scrolled": true
   },
   "outputs": [
    {
     "data": {
      "text/plain": [
       "2    325\n",
       "5    258\n",
       "4     70\n",
       "3     31\n",
       "1     16\n",
       "Name: q7, dtype: int64"
      ]
     },
     "execution_count": 76,
     "metadata": {},
     "output_type": "execute_result"
    }
   ],
   "source": [
    "df['q7'].value_counts()"
   ]
  },
  {
   "cell_type": "code",
   "execution_count": 106,
   "metadata": {},
   "outputs": [
    {
     "data": {
      "text/plain": [
       "Text(0.5, 1.0, 'STU - Q8')"
      ]
     },
     "execution_count": 106,
     "metadata": {},
     "output_type": "execute_result"
    },
    {
     "data": {
      "image/png": "[encoded data removed]",
      "text/plain": [
       "<Figure size 432x288 with 1 Axes>"
      ]
     },
     "metadata": {
      "needs_background": "light"
     },
     "output_type": "display_data"
    }
   ],
   "source": [
    "sns.countplot(data=df, x='q8',).set_title(\"STU - Q8\")"
   ]
  },
  {
   "cell_type": "code",
   "execution_count": 77,
   "metadata": {},
   "outputs": [
    {
     "data": {
      "text/plain": [
       "1    503\n",
       "3     86\n",
       "4     73\n",
       "2     26\n",
       "5     12\n",
       "Name: q8, dtype: int64"
      ]
     },
     "execution_count": 77,
     "metadata": {},
     "output_type": "execute_result"
    }
   ],
   "source": [
    "df['q8'].value_counts()"
   ]
  },
  {
   "cell_type": "code",
   "execution_count": 107,
   "metadata": {},
   "outputs": [
    {
     "data": {
      "text/plain": [
       "Text(0.5, 1.0, 'STU - Q9')"
      ]
     },
     "execution_count": 107,
     "metadata": {},
     "output_type": "execute_result"
    },
    {
     "data": {
      "image/png": "[encoded data removed]",
      "text/plain": [
       "<Figure size 432x288 with 1 Axes>"
      ]
     },
     "metadata": {
      "needs_background": "light"
     },
     "output_type": "display_data"
    }
   ],
   "source": [
    "sns.countplot(data=df, x='q9',).set_title(\"STU - Q9\")"
   ]
  },
  {
   "cell_type": "code",
   "execution_count": 78,
   "metadata": {},
   "outputs": [
    {
     "data": {
      "text/plain": [
       "1    444\n",
       "3    206\n",
       "2     50\n",
       "Name: q9, dtype: int64"
      ]
     },
     "execution_count": 78,
     "metadata": {},
     "output_type": "execute_result"
    }
   ],
   "source": [
    "df['q9'].value_counts()"
   ]
  },
  {
   "cell_type": "code",
   "execution_count": 79,
   "metadata": {
    "scrolled": true
   },
   "outputs": [
    {
     "data": {
      "text/plain": [
       "1    581\n",
       "2    119\n",
       "Name: q10, dtype: int64"
      ]
     },
     "execution_count": 79,
     "metadata": {},
     "output_type": "execute_result"
    }
   ],
   "source": [
    "df['q10'].value_counts()"
   ]
  },
  {
   "cell_type": "code",
   "execution_count": 80,
   "metadata": {},
   "outputs": [
    {
     "data": {
      "text/plain": [
       "1    413\n",
       "2    287\n",
       "Name: q11, dtype: int64"
      ]
     },
     "execution_count": 80,
     "metadata": {},
     "output_type": "execute_result"
    }
   ],
   "source": [
    "df['q11'].value_counts()"
   ]
  },
  {
   "cell_type": "code",
   "execution_count": 81,
   "metadata": {},
   "outputs": [
    {
     "data": {
      "text/plain": [
       "7    100\n",
       "6    100\n",
       "5    100\n",
       "4    100\n",
       "3    100\n",
       "2    100\n",
       "1    100\n",
       "Name: class, dtype: int64"
      ]
     },
     "execution_count": 81,
     "metadata": {},
     "output_type": "execute_result"
    }
   ],
   "source": [
    "df['class'].value_counts()"
   ]
  },
  {
   "cell_type": "code",
   "execution_count": 85,
   "metadata": {},
   "outputs": [],
   "source": [
    "X = df.drop(['class','Religion'],axis=1)\n",
    "y = df['class']"
   ]
  },
  {
   "cell_type": "code",
   "execution_count": null,
   "metadata": {},
   "outputs": [],
   "source": []
  },
  {
   "cell_type": "code",
   "execution_count": 40,
   "metadata": {},
   "outputs": [],
   "source": [
    "# from sklearn.linear_model import LinearRegression\n",
    "\n",
    "# lr = LinearRegression()\n",
    "\n",
    "# lr.fit(X_train, y_train)"
   ]
  },
  {
   "cell_type": "code",
   "execution_count": 86,
   "metadata": {},
   "outputs": [],
   "source": [
    "from sklearn import metrics\n",
    "from sklearn.model_selection import train_test_split, GridSearchCV\n",
    "from sklearn.feature_extraction.text import CountVectorizer\n",
    "from sklearn.metrics import classification_report,accuracy_score\n",
    "from sklearn.preprocessing import LabelEncoder\n",
    "from sklearn.metrics import accuracy_score,recall_score, precision_score, confusion_matrix\n",
    "from sklearn.metrics import plot_confusion_matrix"
   ]
  },
  {
   "cell_type": "code",
   "execution_count": 87,
   "metadata": {},
   "outputs": [],
   "source": [
    "from sklearn.tree import DecisionTreeClassifier"
   ]
  },
  {
   "cell_type": "code",
   "execution_count": 94,
   "metadata": {},
   "outputs": [
    {
     "name": "stdout",
     "output_type": "stream",
     "text": [
      "(560, 18)\n",
      "(140, 18)\n"
     ]
    }
   ],
   "source": [
    "from sklearn.model_selection import train_test_split\n",
    "from sklearn.preprocessing import MinMaxScaler\n",
    "\n",
    "\n",
    "X_train, X_test, y_train, y_test = train_test_split(X,y,test_size=0.2,random_state=0)\n",
    "\n",
    "# scaler = MinMaxScaler()\n",
    "\n",
    "# X_train= scaler.fit_transform(X_train)\n",
    "# X_test = scaler.transform(X_test)\n",
    "\n",
    "print(X_train.shape)\n",
    "print(X_test.shape)"
   ]
  },
  {
   "cell_type": "code",
   "execution_count": 95,
   "metadata": {},
   "outputs": [],
   "source": [
    "d_tree = DecisionTreeClassifier(random_state=0).fit(X_train,y_train)"
   ]
  },
  {
   "cell_type": "code",
   "execution_count": 96,
   "metadata": {},
   "outputs": [
    {
     "name": "stdout",
     "output_type": "stream",
     "text": [
      "              precision    recall  f1-score   support\n",
      "\n",
      "           1       1.00      1.00      1.00        19\n",
      "           2       0.82      0.82      0.82        22\n",
      "           3       0.50      0.44      0.47        25\n",
      "           4       0.67      0.59      0.63        27\n",
      "           5       0.53      0.50      0.51        20\n",
      "           6       0.31      0.42      0.36        12\n",
      "           7       0.33      0.40      0.36        15\n",
      "\n",
      "    accuracy                           0.61       140\n",
      "   macro avg       0.59      0.60      0.59       140\n",
      "weighted avg       0.62      0.61      0.61       140\n",
      "\n",
      "Decision Tree Accuracy: 60.71428571428571 0.9196428571428571\n"
     ]
    }
   ],
   "source": [
    "print(classification_report( d_tree.predict(X_test) , y_test))\n",
    "print(\"Decision Tree Accuracy:\",accuracy_score( d_tree.predict(X_test) , y_test )*100,accuracy_score( d_tree.predict(X_train) , y_train ))"
   ]
  },
  {
   "cell_type": "code",
   "execution_count": 17,
   "metadata": {},
   "outputs": [],
   "source": [
    "param_griddt = {\n",
    "    'max_features': ['auto', 'sqrt', 'log2'],\n",
    "              'max_depth' : [5, 6, 7, 8, 9],\n",
    "              'criterion' :['gini', 'entropy']\n",
    "             }"
   ]
  },
  {
   "cell_type": "code",
   "execution_count": 18,
   "metadata": {},
   "outputs": [],
   "source": [
    "d_tree_lttgr = DecisionTreeClassifier(random_state=0)\n",
    "clf_dt = GridSearchCV(d_tree_lttgr, param_grid=param_griddt, cv=3)\n",
    "best_clff_dt = clf_dt.fit(X_train,y_train)"
   ]
  },
  {
   "cell_type": "code",
   "execution_count": 19,
   "metadata": {},
   "outputs": [
    {
     "data": {
      "text/plain": [
       "DecisionTreeClassifier(max_depth=6, max_features='auto', random_state=0)"
      ]
     },
     "execution_count": 19,
     "metadata": {},
     "output_type": "execute_result"
    }
   ],
   "source": [
    "best_clff_dt.best_estimator_"
   ]
  },
  {
   "cell_type": "code",
   "execution_count": 20,
   "metadata": {},
   "outputs": [
    {
     "data": {
      "text/plain": [
       "{'criterion': 'gini', 'max_depth': 6, 'max_features': 'auto'}"
      ]
     },
     "execution_count": 20,
     "metadata": {},
     "output_type": "execute_result"
    }
   ],
   "source": [
    "best_clff_dt.best_params_"
   ]
  },
  {
   "cell_type": "code",
   "execution_count": 21,
   "metadata": {
    "scrolled": true
   },
   "outputs": [
    {
     "name": "stdout",
     "output_type": "stream",
     "text": [
      "Accuracy - : 57.143\n"
     ]
    }
   ],
   "source": [
    "print(f'Accuracy - : {best_clff_dt.score(X_test,y_test) * 100:.3f}')"
   ]
  },
  {
   "cell_type": "code",
   "execution_count": 54,
   "metadata": {},
   "outputs": [
    {
     "name": "stdout",
     "output_type": "stream",
     "text": [
      "              precision    recall  f1-score   support\n",
      "\n",
      "           1       1.00      0.87      0.93        30\n",
      "           2       0.52      0.61      0.56        23\n",
      "           3       0.46      0.42      0.44        26\n",
      "           4       0.71      0.49      0.58        49\n",
      "           5       0.32      0.50      0.39        22\n",
      "           6       0.38      0.42      0.40        26\n",
      "           7       0.42      0.44      0.43        34\n",
      "\n",
      "    accuracy                           0.53       210\n",
      "   macro avg       0.54      0.54      0.53       210\n",
      "weighted avg       0.57      0.53      0.54       210\n",
      "\n"
     ]
    }
   ],
   "source": [
    "print(classification_report( best_clff_dt.predict(X_test) , y_test))"
   ]
  },
  {
   "cell_type": "code",
   "execution_count": 50,
   "metadata": {},
   "outputs": [
    {
     "name": "stderr",
     "output_type": "stream",
     "text": [
      "C:\\myAnaconda\\lib\\site-packages\\sklearn\\utils\\deprecation.py:87: FutureWarning: Function plot_confusion_matrix is deprecated; Function `plot_confusion_matrix` is deprecated in 1.0 and will be removed in 1.2. Use one of the class methods: ConfusionMatrixDisplay.from_predictions or ConfusionMatrixDisplay.from_estimator.\n",
      "  warnings.warn(msg, category=FutureWarning)\n"
     ]
    },
    {
     "data": {
      "image/png": "[encoded data removed]",
      "text/plain": [
       "<Figure size 640x480 with 2 Axes>"
      ]
     },
     "metadata": {},
     "output_type": "display_data"
    }
   ],
   "source": [
    "from sklearn.metrics import plot_confusion_matrix\n",
    "plt.style.use('classic')\n",
    "\n",
    "plot_confusion_matrix(best_clff_dt, X_test, y_test)  \n",
    "plt.title('Best Rusult for LTT Company')\n",
    "plt.show()"
   ]
  },
  {
   "cell_type": "code",
   "execution_count": 22,
   "metadata": {},
   "outputs": [
    {
     "name": "stderr",
     "output_type": "stream",
     "text": [
      "C:\\myAnaconda\\lib\\site-packages\\sklearn\\neural_network\\_multilayer_perceptron.py:696: ConvergenceWarning: Stochastic Optimizer: Maximum iterations (200) reached and the optimization hasn't converged yet.\n",
      "  ConvergenceWarning,\n"
     ]
    },
    {
     "data": {
      "text/plain": [
       "MLPClassifier(random_state=0)"
      ]
     },
     "execution_count": 22,
     "metadata": {},
     "output_type": "execute_result"
    }
   ],
   "source": [
    "from sklearn.neural_network import MLPClassifier\n",
    "clf = MLPClassifier(random_state=0)\n",
    "clf.fit(X_train,y_train)"
   ]
  },
  {
   "cell_type": "code",
   "execution_count": 23,
   "metadata": {
    "scrolled": true
   },
   "outputs": [
    {
     "name": "stdout",
     "output_type": "stream",
     "text": [
      "              precision    recall  f1-score   support\n",
      "\n",
      "           1       0.94      0.71      0.81        21\n",
      "           2       0.67      0.84      0.74        19\n",
      "           3       0.47      0.35      0.40        23\n",
      "           4       0.80      0.48      0.60        33\n",
      "           5       0.42      0.62      0.50        16\n",
      "           6       0.44      0.50      0.47        16\n",
      "           7       0.43      0.75      0.55        12\n",
      "\n",
      "    accuracy                           0.59       140\n",
      "   macro avg       0.59      0.61      0.58       140\n",
      "weighted avg       0.63      0.59      0.59       140\n",
      "\n",
      "Decision Tree Accuracy: 58.57142857142858 0.7035714285714286\n"
     ]
    }
   ],
   "source": [
    "print(classification_report( clf.predict(X_test) , y_test))\n",
    "print(\"Decision Tree Accuracy:\",accuracy_score( clf.predict(X_test) , y_test )*100,accuracy_score( clf.predict(X_train) , y_train ))"
   ]
  },
  {
   "cell_type": "code",
   "execution_count": 24,
   "metadata": {},
   "outputs": [
    {
     "name": "stdout",
     "output_type": "stream",
     "text": [
      "[60.71428571428571, 57.14285714285714, 53.57142857142857, 53.57142857142857, 50.0]\n",
      "0.55\n"
     ]
    }
   ],
   "source": [
    "from sklearn.model_selection import KFold,cross_val_score\n",
    "## kfold split ngram(2,2)\n",
    "kfold = KFold(5)\n",
    "# classifier_SVS = SVC()\n",
    "# classifier_SVS.fit(X_train_, y_train)\n",
    "re = cross_val_score(d_tree, X_test, y_test, cv=kfold)\n",
    "print(sorted(re * 100, reverse=True))\n",
    "print(np.mean(re))"
   ]
  },
  {
   "cell_type": "code",
   "execution_count": 26,
   "metadata": {},
   "outputs": [
    {
     "name": "stderr",
     "output_type": "stream",
     "text": [
      "C:\\myAnaconda\\lib\\site-packages\\sklearn\\base.py:451: UserWarning: X does not have valid feature names, but DecisionTreeClassifier was fitted with feature names\n",
      "  \"X does not have valid feature names, but\"\n"
     ]
    },
    {
     "data": {
      "text/plain": [
       "array([5], dtype=int64)"
      ]
     },
     "execution_count": 26,
     "metadata": {},
     "output_type": "execute_result"
    }
   ],
   "source": [
    "data = [[1,1,1,1,1,1,1,4,1,2,1,4,4,1,4,1,1,2,1]]\n",
    "result = d_tree.predict(data)\n",
    "result"
   ]
  },
  {
   "cell_type": "code",
   "execution_count": 25,
   "metadata": {},
   "outputs": [
    {
     "name": "stderr",
     "output_type": "stream",
     "text": [
      "C:\\myAnaconda\\lib\\site-packages\\sklearn\\base.py:451: UserWarning: X does not have valid feature names, but MLPClassifier was fitted with feature names\n",
      "  \"X does not have valid feature names, but\"\n"
     ]
    },
    {
     "data": {
      "text/plain": [
       "array([5], dtype=int64)"
      ]
     },
     "execution_count": 25,
     "metadata": {},
     "output_type": "execute_result"
    }
   ],
   "source": [
    "data = [[2,1,1,1,1,1,1,4,2,2,1,5,5,1,5,2,1,1,2]]\n",
    "result = clf.predict(data)\n",
    "result"
   ]
  },
  {
   "cell_type": "code",
   "execution_count": 27,
   "metadata": {},
   "outputs": [
    {
     "name": "stderr",
     "output_type": "stream",
     "text": [
      "C:\\myAnaconda\\lib\\site-packages\\sklearn\\base.py:451: UserWarning: X does not have valid feature names, but DecisionTreeClassifier was fitted with feature names\n",
      "  \"X does not have valid feature names, but\"\n"
     ]
    },
    {
     "data": {
      "text/plain": [
       "array([5], dtype=int64)"
      ]
     },
     "execution_count": 27,
     "metadata": {},
     "output_type": "execute_result"
    }
   ],
   "source": [
    "data = [[2,1,1,1,1,1,1,4,2,2,1,5,5,1,5,2,1,1,2]]\n",
    "result = d_tree.predict(data)\n",
    "result"
   ]
  },
  {
   "cell_type": "code",
   "execution_count": 28,
   "metadata": {},
   "outputs": [
    {
     "name": "stderr",
     "output_type": "stream",
     "text": [
      "C:\\myAnaconda\\lib\\site-packages\\sklearn\\base.py:451: UserWarning: X does not have valid feature names, but DecisionTreeClassifier was fitted with feature names\n",
      "  \"X does not have valid feature names, but\"\n"
     ]
    },
    {
     "data": {
      "text/plain": [
       "array([2], dtype=int64)"
      ]
     },
     "execution_count": 28,
     "metadata": {},
     "output_type": "execute_result"
    }
   ],
   "source": [
    "data = [[1,1,1,1,1,1,1,1,1,1,1,1,1,1,1,1,1,1,1]]\n",
    "result = d_tree.predict(data)\n",
    "result"
   ]
  },
  {
   "cell_type": "code",
   "execution_count": 29,
   "metadata": {},
   "outputs": [
    {
     "name": "stderr",
     "output_type": "stream",
     "text": [
      "C:\\myAnaconda\\lib\\site-packages\\sklearn\\base.py:451: UserWarning: X does not have valid feature names, but MLPClassifier was fitted with feature names\n",
      "  \"X does not have valid feature names, but\"\n"
     ]
    },
    {
     "data": {
      "text/plain": [
       "array([1], dtype=int64)"
      ]
     },
     "execution_count": 29,
     "metadata": {},
     "output_type": "execute_result"
    }
   ],
   "source": [
    "data = [[1,1,1,1,1,1,1,1,1,1,1,1,1,1,1,1,1,1,1]]\n",
    "result = clf.predict(data)\n",
    "result"
   ]
  },
  {
   "cell_type": "code",
   "execution_count": 129,
   "metadata": {},
   "outputs": [],
   "source": [
    "df1 = pd.read_excel(\"التربية اوباري.xlsx\")"
   ]
  },
  {
   "cell_type": "code",
   "execution_count": 80,
   "metadata": {},
   "outputs": [],
   "source": [
    "df2 = pd.read_excel(\"التربية براك.xlsx\")"
   ]
  },
  {
   "cell_type": "code",
   "execution_count": 84,
   "metadata": {},
   "outputs": [],
   "source": [
    "df3 = pd.read_excel(\"التربية غات.xlsx\")"
   ]
  },
  {
   "cell_type": "code",
   "execution_count": 130,
   "metadata": {},
   "outputs": [
    {
     "data": {
      "text/html": [
       "<div>\n",
       "<style scoped>\n",
       "    .dataframe tbody tr th:only-of-type {\n",
       "        vertical-align: middle;\n",
       "    }\n",
       "\n",
       "    .dataframe tbody tr th {\n",
       "        vertical-align: top;\n",
       "    }\n",
       "\n",
       "    .dataframe thead th {\n",
       "        text-align: right;\n",
       "    }\n",
       "</style>\n",
       "<table border=\"1\" class=\"dataframe\">\n",
       "  <thead>\n",
       "    <tr style=\"text-align: right;\">\n",
       "      <th></th>\n",
       "      <th>الرقم الدراسي</th>\n",
       "      <th>مكان الميلاد</th>\n",
       "      <th>الجنس</th>\n",
       "      <th>المهنة</th>\n",
       "      <th>HS</th>\n",
       "      <th>Unnamed: 5</th>\n",
       "      <th>Unnamed: 6</th>\n",
       "      <th>فصل الالتحاق</th>\n",
       "      <th>الكلية</th>\n",
       "      <th>المدينة</th>\n",
       "      <th>...</th>\n",
       "      <th>Unnamed: 49</th>\n",
       "      <th>Unnamed: 50</th>\n",
       "      <th>Unnamed: 51</th>\n",
       "      <th>Unnamed: 52</th>\n",
       "      <th>Unnamed: 53</th>\n",
       "      <th>Unnamed: 54</th>\n",
       "      <th>Unnamed: 55</th>\n",
       "      <th>Unnamed: 56</th>\n",
       "      <th>Unnamed: 57</th>\n",
       "      <th>Unnamed: 58</th>\n",
       "    </tr>\n",
       "  </thead>\n",
       "  <tbody>\n",
       "    <tr>\n",
       "      <th>0</th>\n",
       "      <td>7160166</td>\n",
       "      <td>أوباري</td>\n",
       "      <td>انثى</td>\n",
       "      <td>4</td>\n",
       "      <td>8</td>\n",
       "      <td>43</td>\n",
       "      <td>14</td>\n",
       "      <td>خريف 2015\\2016</td>\n",
       "      <td>التربية أوباري</td>\n",
       "      <td>-1</td>\n",
       "      <td>...</td>\n",
       "      <td>NaN</td>\n",
       "      <td>NaN</td>\n",
       "      <td>NaN</td>\n",
       "      <td>NaN</td>\n",
       "      <td>NaN</td>\n",
       "      <td>NaN</td>\n",
       "      <td>NaN</td>\n",
       "      <td>NaN</td>\n",
       "      <td>NaN</td>\n",
       "      <td>NaN</td>\n",
       "    </tr>\n",
       "    <tr>\n",
       "      <th>1</th>\n",
       "      <td>7140159</td>\n",
       "      <td>أوباري</td>\n",
       "      <td>انثى</td>\n",
       "      <td>4</td>\n",
       "      <td>NaN</td>\n",
       "      <td>42</td>\n",
       "      <td>14</td>\n",
       "      <td>خريف 2015\\2016</td>\n",
       "      <td>التربية أوباري</td>\n",
       "      <td>-1</td>\n",
       "      <td>...</td>\n",
       "      <td>متقاعدة</td>\n",
       "      <td>نعم</td>\n",
       "      <td>لا</td>\n",
       "      <td>لا</td>\n",
       "      <td>لا</td>\n",
       "      <td>لا</td>\n",
       "      <td>نعم</td>\n",
       "      <td>نعم</td>\n",
       "      <td>لا</td>\n",
       "      <td>لا</td>\n",
       "    </tr>\n",
       "    <tr>\n",
       "      <th>2</th>\n",
       "      <td>7140103</td>\n",
       "      <td>القطرون</td>\n",
       "      <td>انثى</td>\n",
       "      <td>37</td>\n",
       "      <td>NaN</td>\n",
       "      <td>42</td>\n",
       "      <td>14</td>\n",
       "      <td>خريف 2015\\2016</td>\n",
       "      <td>التربية أوباري</td>\n",
       "      <td>-1</td>\n",
       "      <td>...</td>\n",
       "      <td>موظفة</td>\n",
       "      <td>لا</td>\n",
       "      <td>لا</td>\n",
       "      <td>لا</td>\n",
       "      <td>لا</td>\n",
       "      <td>لا</td>\n",
       "      <td>نعم</td>\n",
       "      <td>نعم</td>\n",
       "      <td>لا</td>\n",
       "      <td>لا</td>\n",
       "    </tr>\n",
       "    <tr>\n",
       "      <th>3</th>\n",
       "      <td>7170005</td>\n",
       "      <td>الحطية</td>\n",
       "      <td>انثى</td>\n",
       "      <td>0</td>\n",
       "      <td>17</td>\n",
       "      <td>45</td>\n",
       "      <td>14</td>\n",
       "      <td>خريف2017/2016</td>\n",
       "      <td>التربية أوباري</td>\n",
       "      <td>-1</td>\n",
       "      <td>...</td>\n",
       "      <td>موظفة</td>\n",
       "      <td>لا</td>\n",
       "      <td>لا</td>\n",
       "      <td>لا</td>\n",
       "      <td>لا</td>\n",
       "      <td>نعم</td>\n",
       "      <td>نعم</td>\n",
       "      <td>نعم</td>\n",
       "      <td>لا</td>\n",
       "      <td>نعم</td>\n",
       "    </tr>\n",
       "    <tr>\n",
       "      <th>4</th>\n",
       "      <td>7160011</td>\n",
       "      <td>أوباري</td>\n",
       "      <td>انثى</td>\n",
       "      <td>4</td>\n",
       "      <td>17</td>\n",
       "      <td>45</td>\n",
       "      <td>14</td>\n",
       "      <td>خريف 2015\\2016</td>\n",
       "      <td>التربية أوباري</td>\n",
       "      <td>-1</td>\n",
       "      <td>...</td>\n",
       "      <td>موظفة</td>\n",
       "      <td>لا</td>\n",
       "      <td>لا</td>\n",
       "      <td>لا</td>\n",
       "      <td>لا</td>\n",
       "      <td>نعم</td>\n",
       "      <td>لا</td>\n",
       "      <td>نعم</td>\n",
       "      <td>لا</td>\n",
       "      <td>لا</td>\n",
       "    </tr>\n",
       "    <tr>\n",
       "      <th>...</th>\n",
       "      <td>...</td>\n",
       "      <td>...</td>\n",
       "      <td>...</td>\n",
       "      <td>...</td>\n",
       "      <td>...</td>\n",
       "      <td>...</td>\n",
       "      <td>...</td>\n",
       "      <td>...</td>\n",
       "      <td>...</td>\n",
       "      <td>...</td>\n",
       "      <td>...</td>\n",
       "      <td>...</td>\n",
       "      <td>...</td>\n",
       "      <td>...</td>\n",
       "      <td>...</td>\n",
       "      <td>...</td>\n",
       "      <td>...</td>\n",
       "      <td>...</td>\n",
       "      <td>...</td>\n",
       "      <td>...</td>\n",
       "      <td>...</td>\n",
       "    </tr>\n",
       "    <tr>\n",
       "      <th>687</th>\n",
       "      <td>7200001</td>\n",
       "      <td>جرمة</td>\n",
       "      <td>انثى</td>\n",
       "      <td>0</td>\n",
       "      <td>NaN</td>\n",
       "      <td>49</td>\n",
       "      <td>14</td>\n",
       "      <td>ربيع2018</td>\n",
       "      <td>التربية أوباري</td>\n",
       "      <td>-1</td>\n",
       "      <td>...</td>\n",
       "      <td>موظفة</td>\n",
       "      <td>لا</td>\n",
       "      <td>لا</td>\n",
       "      <td>لا</td>\n",
       "      <td>لا</td>\n",
       "      <td>لا</td>\n",
       "      <td>نعم</td>\n",
       "      <td>نعم</td>\n",
       "      <td>لا</td>\n",
       "      <td>لا</td>\n",
       "    </tr>\n",
       "    <tr>\n",
       "      <th>688</th>\n",
       "      <td>7150166</td>\n",
       "      <td>أوباري</td>\n",
       "      <td>انثى</td>\n",
       "      <td>4</td>\n",
       "      <td>NaN</td>\n",
       "      <td>45</td>\n",
       "      <td>14</td>\n",
       "      <td>خريف 2015\\2016</td>\n",
       "      <td>التربية أوباري</td>\n",
       "      <td>-1</td>\n",
       "      <td>...</td>\n",
       "      <td>موظفة</td>\n",
       "      <td>لا</td>\n",
       "      <td>لا</td>\n",
       "      <td>لا</td>\n",
       "      <td>لا</td>\n",
       "      <td>لا</td>\n",
       "      <td>نعم</td>\n",
       "      <td>نعم</td>\n",
       "      <td>لا</td>\n",
       "      <td>لا</td>\n",
       "    </tr>\n",
       "    <tr>\n",
       "      <th>689</th>\n",
       "      <td>7150147</td>\n",
       "      <td>الحطية</td>\n",
       "      <td>انثى</td>\n",
       "      <td>4</td>\n",
       "      <td>NaN</td>\n",
       "      <td>43</td>\n",
       "      <td>14</td>\n",
       "      <td>خريف 2015\\2016</td>\n",
       "      <td>التربية أوباري</td>\n",
       "      <td>-1</td>\n",
       "      <td>...</td>\n",
       "      <td>موظفة</td>\n",
       "      <td>لا</td>\n",
       "      <td>لا</td>\n",
       "      <td>لا</td>\n",
       "      <td>لا</td>\n",
       "      <td>نعم</td>\n",
       "      <td>نعم</td>\n",
       "      <td>نعم</td>\n",
       "      <td>لا</td>\n",
       "      <td>لا</td>\n",
       "    </tr>\n",
       "    <tr>\n",
       "      <th>690</th>\n",
       "      <td>7170017</td>\n",
       "      <td>سبها</td>\n",
       "      <td>انثى</td>\n",
       "      <td>0</td>\n",
       "      <td>17</td>\n",
       "      <td>127</td>\n",
       "      <td>14</td>\n",
       "      <td>خريف2017/2016</td>\n",
       "      <td>التربية أوباري</td>\n",
       "      <td>-1</td>\n",
       "      <td>...</td>\n",
       "      <td>موظفة</td>\n",
       "      <td>نعم</td>\n",
       "      <td>لا</td>\n",
       "      <td>لا</td>\n",
       "      <td>لا</td>\n",
       "      <td>لا</td>\n",
       "      <td>نعم</td>\n",
       "      <td>نعم</td>\n",
       "      <td>نعم</td>\n",
       "      <td>لا</td>\n",
       "    </tr>\n",
       "    <tr>\n",
       "      <th>691</th>\n",
       "      <td>7200013</td>\n",
       "      <td>مندرة</td>\n",
       "      <td>انثى</td>\n",
       "      <td>0</td>\n",
       "      <td>القسم الادبي</td>\n",
       "      <td>45</td>\n",
       "      <td>0</td>\n",
       "      <td>ربيع2020</td>\n",
       "      <td>التربية أوباري</td>\n",
       "      <td>مندرة</td>\n",
       "      <td>...</td>\n",
       "      <td>موظفة</td>\n",
       "      <td>لا</td>\n",
       "      <td>لا</td>\n",
       "      <td>نعم</td>\n",
       "      <td>نعم</td>\n",
       "      <td>لا</td>\n",
       "      <td>نعم</td>\n",
       "      <td>نعم</td>\n",
       "      <td>نعم</td>\n",
       "      <td>نعم</td>\n",
       "    </tr>\n",
       "  </tbody>\n",
       "</table>\n",
       "<p>692 rows × 59 columns</p>\n",
       "</div>"
      ],
      "text/plain": [
       "    الرقم الدراسي مكان الميلاد الجنس  المهنة            HS  Unnamed: 5  \\\n",
       "0         7160166       أوباري  انثى       4             8          43   \n",
       "1         7140159       أوباري  انثى       4           NaN          42   \n",
       "2         7140103      القطرون  انثى      37           NaN          42   \n",
       "3         7170005       الحطية  انثى       0            17          45   \n",
       "4         7160011       أوباري  انثى       4            17          45   \n",
       "..            ...          ...   ...     ...           ...         ...   \n",
       "687       7200001         جرمة  انثى       0           NaN          49   \n",
       "688       7150166       أوباري  انثى       4           NaN          45   \n",
       "689       7150147       الحطية  انثى       4           NaN          43   \n",
       "690       7170017         سبها  انثى       0            17         127   \n",
       "691       7200013        مندرة  انثى       0  القسم الادبي          45   \n",
       "\n",
       "     Unnamed: 6    فصل الالتحاق          الكلية المدينة  ... Unnamed: 49  \\\n",
       "0            14  خريف 2015\\2016  التربية أوباري      -1  ...         NaN   \n",
       "1            14  خريف 2015\\2016  التربية أوباري      -1  ...    متقاعدة    \n",
       "2            14  خريف 2015\\2016  التربية أوباري      -1  ...       موظفة   \n",
       "3            14   خريف2017/2016  التربية أوباري      -1  ...       موظفة   \n",
       "4            14  خريف 2015\\2016  التربية أوباري      -1  ...       موظفة   \n",
       "..          ...             ...             ...     ...  ...         ...   \n",
       "687          14        ربيع2018  التربية أوباري      -1  ...       موظفة   \n",
       "688          14  خريف 2015\\2016  التربية أوباري      -1  ...       موظفة   \n",
       "689          14  خريف 2015\\2016  التربية أوباري      -1  ...       موظفة   \n",
       "690          14   خريف2017/2016  التربية أوباري      -1  ...       موظفة   \n",
       "691           0        ربيع2020  التربية أوباري   مندرة  ...       موظفة   \n",
       "\n",
       "     Unnamed: 50  Unnamed: 51  Unnamed: 52 Unnamed: 53  Unnamed: 54  \\\n",
       "0            NaN          NaN          NaN         NaN          NaN   \n",
       "1            نعم           لا           لا          لا           لا   \n",
       "2             لا           لا           لا          لا           لا   \n",
       "3             لا           لا           لا          لا          نعم   \n",
       "4             لا           لا           لا          لا          نعم   \n",
       "..           ...          ...          ...         ...          ...   \n",
       "687           لا           لا           لا          لا           لا   \n",
       "688           لا           لا           لا          لا           لا   \n",
       "689           لا           لا           لا          لا          نعم   \n",
       "690          نعم           لا           لا          لا           لا   \n",
       "691           لا           لا          نعم         نعم           لا   \n",
       "\n",
       "     Unnamed: 55  Unnamed: 56 Unnamed: 57 Unnamed: 58  \n",
       "0            NaN          NaN         NaN         NaN  \n",
       "1            نعم          نعم          لا          لا  \n",
       "2            نعم          نعم          لا          لا  \n",
       "3            نعم          نعم          لا         نعم  \n",
       "4             لا          نعم          لا          لا  \n",
       "..           ...          ...         ...         ...  \n",
       "687          نعم          نعم          لا          لا  \n",
       "688          نعم          نعم          لا          لا  \n",
       "689          نعم          نعم          لا          لا  \n",
       "690          نعم          نعم         نعم          لا  \n",
       "691          نعم          نعم         نعم         نعم  \n",
       "\n",
       "[692 rows x 59 columns]"
      ]
     },
     "execution_count": 130,
     "metadata": {},
     "output_type": "execute_result"
    }
   ],
   "source": [
    "df1"
   ]
  },
  {
   "cell_type": "code",
   "execution_count": 81,
   "metadata": {},
   "outputs": [
    {
     "data": {
      "text/plain": [
       "17                            152\n",
       "14                            145\n",
       "القسم الادبي                   95\n",
       "القسم العلمي                   83\n",
       "9                               8\n",
       "12                              6\n",
       "13                              3\n",
       "العلوم الأساسية                 2\n",
       "10                              2\n",
       "8                               2\n",
       "اللغـات تخصص اللغة العربية      1\n",
       "علوم الحياة                     1\n",
       "16                              1\n",
       "Name: HS, dtype: int64"
      ]
     },
     "execution_count": 81,
     "metadata": {},
     "output_type": "execute_result"
    }
   ],
   "source": [
    "df2.HS.value_counts()"
   ]
  },
  {
   "cell_type": "code",
   "execution_count": 85,
   "metadata": {},
   "outputs": [
    {
     "data": {
      "text/plain": [
       "14                            129\n",
       "17                             88\n",
       "القسم العلمي                   69\n",
       "القسم الادبي                   64\n",
       "9                              11\n",
       "8                               9\n",
       "13                              4\n",
       "10                              4\n",
       "اللغـات تخصص اللغة العربية      3\n",
       "Name: HS, dtype: int64"
      ]
     },
     "execution_count": 85,
     "metadata": {},
     "output_type": "execute_result"
    }
   ],
   "source": [
    "df3.HS.value_counts()"
   ]
  },
  {
   "cell_type": "code",
   "execution_count": 131,
   "metadata": {},
   "outputs": [],
   "source": [
    "AUB = df1[(df1['HS'] == 'القسم العلمي') | (df1['HS'] == 'القسم الادبي') ]"
   ]
  },
  {
   "cell_type": "code",
   "execution_count": 132,
   "metadata": {
    "scrolled": true
   },
   "outputs": [
    {
     "data": {
      "text/plain": [
       "(105, 59)"
      ]
     },
     "execution_count": 132,
     "metadata": {},
     "output_type": "execute_result"
    }
   ],
   "source": [
    "AUB.shape"
   ]
  },
  {
   "cell_type": "code",
   "execution_count": 133,
   "metadata": {},
   "outputs": [
    {
     "data": {
      "text/plain": [
       "pandas.core.frame.DataFrame"
      ]
     },
     "execution_count": 133,
     "metadata": {},
     "output_type": "execute_result"
    }
   ],
   "source": [
    "type(AUB)"
   ]
  },
  {
   "cell_type": "code",
   "execution_count": 136,
   "metadata": {},
   "outputs": [],
   "source": [
    "AUB.to_excel('aubari.xlsx')"
   ]
  },
  {
   "cell_type": "code",
   "execution_count": 114,
   "metadata": {},
   "outputs": [],
   "source": [
    "BRAK = df2[(df2['HS'] == 'القسم العلمي') | (df2['HS'] == 'القسم الادبي') ]"
   ]
  },
  {
   "cell_type": "code",
   "execution_count": 116,
   "metadata": {},
   "outputs": [
    {
     "data": {
      "text/plain": [
       "(178, 59)"
      ]
     },
     "execution_count": 116,
     "metadata": {},
     "output_type": "execute_result"
    }
   ],
   "source": [
    "BRAK.shape"
   ]
  },
  {
   "cell_type": "code",
   "execution_count": 117,
   "metadata": {},
   "outputs": [],
   "source": [
    "BRAK.to_excel('BRAK.xlsx')"
   ]
  },
  {
   "cell_type": "code",
   "execution_count": 118,
   "metadata": {},
   "outputs": [],
   "source": [
    "GHAT = df3[(df3['HS'] == 'القسم العلمي') | (df3['HS'] == 'القسم الادبي') ]"
   ]
  },
  {
   "cell_type": "code",
   "execution_count": 119,
   "metadata": {},
   "outputs": [
    {
     "data": {
      "text/plain": [
       "(133, 59)"
      ]
     },
     "execution_count": 119,
     "metadata": {},
     "output_type": "execute_result"
    }
   ],
   "source": [
    "GHAT.shape"
   ]
  },
  {
   "cell_type": "code",
   "execution_count": 120,
   "metadata": {},
   "outputs": [],
   "source": [
    "GHAT.to_excel('GHAT.xlsx')"
   ]
  },
  {
   "cell_type": "code",
   "execution_count": 137,
   "metadata": {},
   "outputs": [],
   "source": [
    "ex1 = 'aubari.xlsx'\n",
    "ex2 = 'BRAK.xlsx'\n",
    "ex3 = 'GHAT.xlsx'\n",
    "\n",
    "\n",
    "exc1 = pd.read_excel('aubari.xlsx')\n",
    "exc2 = pd.read_excel('BRAK.xlsx')\n",
    "exc3 = pd.read_excel('GHAT.xlsx')\n",
    "\n",
    "values1 = exc1\n",
    "values2 = exc2\n",
    "values3 = exc3\n",
    "\n",
    "datafream = [values1, values2, values3]\n",
    "join = pd.concat(datafream)\n",
    "join.to_excel('All_Trbia.xlsx')"
   ]
  },
  {
   "cell_type": "code",
   "execution_count": 138,
   "metadata": {},
   "outputs": [],
   "source": [
    "ff = pd.read_excel('All_Trbia.xlsx')"
   ]
  },
  {
   "cell_type": "code",
   "execution_count": 139,
   "metadata": {},
   "outputs": [
    {
     "data": {
      "text/plain": [
       "(416, 75)"
      ]
     },
     "execution_count": 139,
     "metadata": {},
     "output_type": "execute_result"
    }
   ],
   "source": [
    "ff.shape"
   ]
  },
  {
   "cell_type": "code",
   "execution_count": 141,
   "metadata": {},
   "outputs": [],
   "source": [
    "ex1 = 'طب الاسنان.xlsx'\n",
    "ex2 = 'طب بشري.xlsx'\n",
    "ex3 = 'التمريض.xlsx'\n",
    "ex4 = 'الصيدلية.xlsx'\n",
    "\n",
    "\n",
    "exc1 = pd.read_excel('طب الاسنان.xlsx')\n",
    "exc2 = pd.read_excel('طب بشري.xlsx')\n",
    "exc3 = pd.read_excel('التمريض.xlsx')\n",
    "exc4 = pd.read_excel('الصيدلية.xlsx')\n",
    "\n",
    "values1 = exc1\n",
    "values2 = exc2\n",
    "values3 = exc3\n",
    "values4 = exc4\n",
    "\n",
    "datafream = [values1, values2, values3, values4]\n",
    "join = pd.concat(datafream)\n",
    "join.to_excel('All_PHAR.xlsx')"
   ]
  },
  {
   "cell_type": "code",
   "execution_count": 142,
   "metadata": {},
   "outputs": [],
   "source": [
    "t = pd.read_excel('طب بشري.xlsx')"
   ]
  },
  {
   "cell_type": "code",
   "execution_count": 143,
   "metadata": {},
   "outputs": [],
   "source": [
    "s = pd.read_excel('طب الاسنان.xlsx')"
   ]
  },
  {
   "cell_type": "code",
   "execution_count": 144,
   "metadata": {},
   "outputs": [],
   "source": [
    "z = pd.read_excel('الصيدلية.xlsx')"
   ]
  },
  {
   "cell_type": "code",
   "execution_count": 145,
   "metadata": {},
   "outputs": [],
   "source": [
    "v = pd.read_excel('التمريض.xlsx')"
   ]
  },
  {
   "cell_type": "code",
   "execution_count": 146,
   "metadata": {},
   "outputs": [
    {
     "data": {
      "text/plain": [
       "(70, 59)"
      ]
     },
     "execution_count": 146,
     "metadata": {},
     "output_type": "execute_result"
    }
   ],
   "source": [
    "t.shape"
   ]
  },
  {
   "cell_type": "code",
   "execution_count": 147,
   "metadata": {},
   "outputs": [
    {
     "data": {
      "text/plain": [
       "(48, 59)"
      ]
     },
     "execution_count": 147,
     "metadata": {},
     "output_type": "execute_result"
    }
   ],
   "source": [
    "s.shape"
   ]
  },
  {
   "cell_type": "code",
   "execution_count": 148,
   "metadata": {},
   "outputs": [
    {
     "data": {
      "text/plain": [
       "(127, 59)"
      ]
     },
     "execution_count": 148,
     "metadata": {},
     "output_type": "execute_result"
    }
   ],
   "source": [
    "z.shape"
   ]
  },
  {
   "cell_type": "code",
   "execution_count": 149,
   "metadata": {},
   "outputs": [
    {
     "data": {
      "text/plain": [
       "(88, 59)"
      ]
     },
     "execution_count": 149,
     "metadata": {},
     "output_type": "execute_result"
    }
   ],
   "source": [
    "v.shape"
   ]
  },
  {
   "cell_type": "code",
   "execution_count": 150,
   "metadata": {},
   "outputs": [],
   "source": [
    "hh = pd.read_excel(\"كلية الاداب.xlsx\")"
   ]
  },
  {
   "cell_type": "code",
   "execution_count": 151,
   "metadata": {},
   "outputs": [],
   "source": [
    "hh['التخصص-الثانوية'].fillna('القسم الادبي',inplace=True)"
   ]
  },
  {
   "cell_type": "code",
   "execution_count": 152,
   "metadata": {},
   "outputs": [],
   "source": [
    "hh['التخصص-الثانوية'] =  hh['التخصص-الثانوية'].replace(17,'القسم الادبي')"
   ]
  },
  {
   "cell_type": "code",
   "execution_count": 155,
   "metadata": {},
   "outputs": [],
   "source": [
    "hh['التخصص-الثانوية'] =  hh['التخصص-الثانوية'].replace(12,'القسم الادبي')"
   ]
  },
  {
   "cell_type": "code",
   "execution_count": 154,
   "metadata": {},
   "outputs": [],
   "source": [
    "hh['التخصص-الثانوية'] =  hh['التخصص-الثانوية'].replace(11,'القسم الادبي')"
   ]
  },
  {
   "cell_type": "code",
   "execution_count": null,
   "metadata": {},
   "outputs": [],
   "source": [
    "hh['التخصص-الثانوية'] =  hh['التخصص-الثانوية'].replace(11,'القسم الادبي')"
   ]
  },
  {
   "cell_type": "code",
   "execution_count": 153,
   "metadata": {},
   "outputs": [
    {
     "data": {
      "text/html": [
       "<div>\n",
       "<style scoped>\n",
       "    .dataframe tbody tr th:only-of-type {\n",
       "        vertical-align: middle;\n",
       "    }\n",
       "\n",
       "    .dataframe tbody tr th {\n",
       "        vertical-align: top;\n",
       "    }\n",
       "\n",
       "    .dataframe thead th {\n",
       "        text-align: right;\n",
       "    }\n",
       "</style>\n",
       "<table border=\"1\" class=\"dataframe\">\n",
       "  <thead>\n",
       "    <tr style=\"text-align: right;\">\n",
       "      <th></th>\n",
       "      <th>مكان الميلاد</th>\n",
       "      <th>الجنس</th>\n",
       "      <th>المدينة</th>\n",
       "      <th>التخصص-الثانوية</th>\n",
       "      <th>القسم العلمي</th>\n",
       "      <th>الجنسية</th>\n",
       "      <th>فصل الالتحاق</th>\n",
       "      <th>Unnamed: 7</th>\n",
       "      <th>المدينة.1</th>\n",
       "      <th>الديانة</th>\n",
       "      <th>...</th>\n",
       "      <th>Q37</th>\n",
       "      <th>Q38</th>\n",
       "      <th>Q39</th>\n",
       "      <th>Q40</th>\n",
       "      <th>Q41</th>\n",
       "      <th>Q42</th>\n",
       "      <th>Q43</th>\n",
       "      <th>Q44</th>\n",
       "      <th>Q45</th>\n",
       "      <th>الكلية</th>\n",
       "    </tr>\n",
       "  </thead>\n",
       "  <tbody>\n",
       "    <tr>\n",
       "      <th>0</th>\n",
       "      <td>سبها</td>\n",
       "      <td>انثى</td>\n",
       "      <td>0</td>\n",
       "      <td>القسم الادبي</td>\n",
       "      <td>27</td>\n",
       "      <td>14</td>\n",
       "      <td>خريف2018/2017</td>\n",
       "      <td>NaN</td>\n",
       "      <td>-1</td>\n",
       "      <td>مسلم</td>\n",
       "      <td>...</td>\n",
       "      <td>لا</td>\n",
       "      <td>لا</td>\n",
       "      <td>نعم</td>\n",
       "      <td>لا</td>\n",
       "      <td>لا</td>\n",
       "      <td>نعم</td>\n",
       "      <td>نعم</td>\n",
       "      <td>لا</td>\n",
       "      <td>لا</td>\n",
       "      <td>الآداب سبها</td>\n",
       "    </tr>\n",
       "    <tr>\n",
       "      <th>1</th>\n",
       "      <td>سبها</td>\n",
       "      <td>انثى</td>\n",
       "      <td>1</td>\n",
       "      <td>القسم الادبي</td>\n",
       "      <td>33</td>\n",
       "      <td>14</td>\n",
       "      <td>خريف 2015\\2016</td>\n",
       "      <td>NaN</td>\n",
       "      <td>-1</td>\n",
       "      <td>مسلم</td>\n",
       "      <td>...</td>\n",
       "      <td>لا</td>\n",
       "      <td>لا</td>\n",
       "      <td>لا</td>\n",
       "      <td>نعم</td>\n",
       "      <td>نعم</td>\n",
       "      <td>لا</td>\n",
       "      <td>نعم</td>\n",
       "      <td>نعم</td>\n",
       "      <td>لا</td>\n",
       "      <td>الآداب سبها</td>\n",
       "    </tr>\n",
       "    <tr>\n",
       "      <th>2</th>\n",
       "      <td>سبها</td>\n",
       "      <td>انثى</td>\n",
       "      <td>1</td>\n",
       "      <td>القسم الادبي</td>\n",
       "      <td>33</td>\n",
       "      <td>14</td>\n",
       "      <td>خريف 2015\\2016</td>\n",
       "      <td>NaN</td>\n",
       "      <td>-1</td>\n",
       "      <td>مسلم</td>\n",
       "      <td>...</td>\n",
       "      <td>لا</td>\n",
       "      <td>نعم</td>\n",
       "      <td>لا</td>\n",
       "      <td>نعم</td>\n",
       "      <td>لا</td>\n",
       "      <td>نعم</td>\n",
       "      <td>لا</td>\n",
       "      <td>نعم</td>\n",
       "      <td>لا</td>\n",
       "      <td>الآداب سبها</td>\n",
       "    </tr>\n",
       "    <tr>\n",
       "      <th>3</th>\n",
       "      <td>سبها</td>\n",
       "      <td>ذكر</td>\n",
       "      <td>0</td>\n",
       "      <td>القسم الادبي</td>\n",
       "      <td>31</td>\n",
       "      <td>0</td>\n",
       "      <td>ربيع2019</td>\n",
       "      <td>NaN</td>\n",
       "      <td>-1</td>\n",
       "      <td>مسلم</td>\n",
       "      <td>...</td>\n",
       "      <td>لا</td>\n",
       "      <td>لا</td>\n",
       "      <td>لا</td>\n",
       "      <td>لا</td>\n",
       "      <td>لا</td>\n",
       "      <td>نعم</td>\n",
       "      <td>نعم</td>\n",
       "      <td>لا</td>\n",
       "      <td>لا</td>\n",
       "      <td>الآداب سبها</td>\n",
       "    </tr>\n",
       "    <tr>\n",
       "      <th>4</th>\n",
       "      <td>سبها</td>\n",
       "      <td>انثى</td>\n",
       "      <td>0</td>\n",
       "      <td>القسم العلمي</td>\n",
       "      <td>32</td>\n",
       "      <td>14</td>\n",
       "      <td>خريف2019/2018</td>\n",
       "      <td>NaN</td>\n",
       "      <td>سبها</td>\n",
       "      <td>مسلم</td>\n",
       "      <td>...</td>\n",
       "      <td>لا</td>\n",
       "      <td>نعم</td>\n",
       "      <td>لا</td>\n",
       "      <td>لا</td>\n",
       "      <td>لا</td>\n",
       "      <td>لا</td>\n",
       "      <td>نعم</td>\n",
       "      <td>لا</td>\n",
       "      <td>لا</td>\n",
       "      <td>الآداب سبها</td>\n",
       "    </tr>\n",
       "    <tr>\n",
       "      <th>...</th>\n",
       "      <td>...</td>\n",
       "      <td>...</td>\n",
       "      <td>...</td>\n",
       "      <td>...</td>\n",
       "      <td>...</td>\n",
       "      <td>...</td>\n",
       "      <td>...</td>\n",
       "      <td>...</td>\n",
       "      <td>...</td>\n",
       "      <td>...</td>\n",
       "      <td>...</td>\n",
       "      <td>...</td>\n",
       "      <td>...</td>\n",
       "      <td>...</td>\n",
       "      <td>...</td>\n",
       "      <td>...</td>\n",
       "      <td>...</td>\n",
       "      <td>...</td>\n",
       "      <td>...</td>\n",
       "      <td>...</td>\n",
       "      <td>...</td>\n",
       "    </tr>\n",
       "    <tr>\n",
       "      <th>263</th>\n",
       "      <td>قبرعون</td>\n",
       "      <td>ذكر</td>\n",
       "      <td>4</td>\n",
       "      <td>15</td>\n",
       "      <td>30</td>\n",
       "      <td>14</td>\n",
       "      <td>ربيع2016/2015</td>\n",
       "      <td>NaN</td>\n",
       "      <td>-1</td>\n",
       "      <td>مسلم</td>\n",
       "      <td>...</td>\n",
       "      <td>لا</td>\n",
       "      <td>لا</td>\n",
       "      <td>نعم</td>\n",
       "      <td>نعم</td>\n",
       "      <td>نعم</td>\n",
       "      <td>نعم</td>\n",
       "      <td>نعم</td>\n",
       "      <td>لا</td>\n",
       "      <td>نعم</td>\n",
       "      <td>الآداب سبها</td>\n",
       "    </tr>\n",
       "    <tr>\n",
       "      <th>264</th>\n",
       "      <td>اوبارى</td>\n",
       "      <td>انثى</td>\n",
       "      <td>4</td>\n",
       "      <td>11</td>\n",
       "      <td>33</td>\n",
       "      <td>14</td>\n",
       "      <td>ربيع2016/2015</td>\n",
       "      <td>NaN</td>\n",
       "      <td>-1</td>\n",
       "      <td>مسلم</td>\n",
       "      <td>...</td>\n",
       "      <td>لا</td>\n",
       "      <td>لا</td>\n",
       "      <td>نعم</td>\n",
       "      <td>نعم</td>\n",
       "      <td>نعم</td>\n",
       "      <td>نعم</td>\n",
       "      <td>نعم</td>\n",
       "      <td>لا</td>\n",
       "      <td>نعم</td>\n",
       "      <td>الآداب سبها</td>\n",
       "    </tr>\n",
       "    <tr>\n",
       "      <th>265</th>\n",
       "      <td>القطرون</td>\n",
       "      <td>ذكر</td>\n",
       "      <td>37</td>\n",
       "      <td>11</td>\n",
       "      <td>33</td>\n",
       "      <td>14</td>\n",
       "      <td>ربيع2016/2015</td>\n",
       "      <td>NaN</td>\n",
       "      <td>-1</td>\n",
       "      <td>مسلم</td>\n",
       "      <td>...</td>\n",
       "      <td>لا</td>\n",
       "      <td>لا</td>\n",
       "      <td>نعم</td>\n",
       "      <td>نعم</td>\n",
       "      <td>نعم</td>\n",
       "      <td>نعم</td>\n",
       "      <td>نعم</td>\n",
       "      <td>لا</td>\n",
       "      <td>نعم</td>\n",
       "      <td>الآداب سبها</td>\n",
       "    </tr>\n",
       "    <tr>\n",
       "      <th>266</th>\n",
       "      <td>سبها</td>\n",
       "      <td>انثى</td>\n",
       "      <td>1</td>\n",
       "      <td>ثانوية تخصصية</td>\n",
       "      <td>3</td>\n",
       "      <td>14</td>\n",
       "      <td>خريف 2015\\2016</td>\n",
       "      <td>NaN</td>\n",
       "      <td>-1</td>\n",
       "      <td>مسلم</td>\n",
       "      <td>...</td>\n",
       "      <td>لا</td>\n",
       "      <td>لا</td>\n",
       "      <td>نعم</td>\n",
       "      <td>نعم</td>\n",
       "      <td>نعم</td>\n",
       "      <td>نعم</td>\n",
       "      <td>نعم</td>\n",
       "      <td>لا</td>\n",
       "      <td>نعم</td>\n",
       "      <td>الآداب سبها</td>\n",
       "    </tr>\n",
       "    <tr>\n",
       "      <th>267</th>\n",
       "      <td>سبها</td>\n",
       "      <td>انثى</td>\n",
       "      <td>0</td>\n",
       "      <td>القسم الادبي</td>\n",
       "      <td>24</td>\n",
       "      <td>0</td>\n",
       "      <td>خريف2020/2019</td>\n",
       "      <td>NaN</td>\n",
       "      <td>-1</td>\n",
       "      <td>مسلم</td>\n",
       "      <td>...</td>\n",
       "      <td>لا</td>\n",
       "      <td>لا</td>\n",
       "      <td>لا</td>\n",
       "      <td>لا</td>\n",
       "      <td>لا</td>\n",
       "      <td>نعم</td>\n",
       "      <td>نعم</td>\n",
       "      <td>لا</td>\n",
       "      <td>لا</td>\n",
       "      <td>الآداب سبها</td>\n",
       "    </tr>\n",
       "  </tbody>\n",
       "</table>\n",
       "<p>268 rows × 57 columns</p>\n",
       "</div>"
      ],
      "text/plain": [
       "    مكان الميلاد الجنس  المدينة التخصص-الثانوية  القسم العلمي  الجنسية  \\\n",
       "0           سبها  انثى        0    القسم الادبي            27       14   \n",
       "1           سبها  انثى        1    القسم الادبي            33       14   \n",
       "2           سبها  انثى        1    القسم الادبي            33       14   \n",
       "3           سبها   ذكر        0    القسم الادبي            31        0   \n",
       "4           سبها  انثى        0    القسم العلمي            32       14   \n",
       "..           ...   ...      ...             ...           ...      ...   \n",
       "263       قبرعون   ذكر        4              15            30       14   \n",
       "264      اوبارى   انثى        4              11            33       14   \n",
       "265      القطرون   ذكر       37              11            33       14   \n",
       "266         سبها  انثى        1   ثانوية تخصصية             3       14   \n",
       "267         سبها  انثى        0    القسم الادبي            24        0   \n",
       "\n",
       "       فصل الالتحاق  Unnamed: 7 المدينة.1 الديانة  ...  Q37  Q38  Q39  Q40  \\\n",
       "0     خريف2018/2017         NaN        -1    مسلم  ...   لا   لا  نعم   لا   \n",
       "1    خريف 2015\\2016         NaN        -1    مسلم  ...   لا   لا   لا  نعم   \n",
       "2    خريف 2015\\2016         NaN        -1    مسلم  ...   لا  نعم   لا  نعم   \n",
       "3          ربيع2019         NaN        -1    مسلم  ...   لا   لا   لا   لا   \n",
       "4     خريف2019/2018         NaN      سبها    مسلم  ...   لا  نعم   لا   لا   \n",
       "..              ...         ...       ...     ...  ...  ...  ...  ...  ...   \n",
       "263   ربيع2016/2015         NaN        -1    مسلم  ...   لا   لا  نعم  نعم   \n",
       "264   ربيع2016/2015         NaN        -1    مسلم  ...   لا   لا  نعم  نعم   \n",
       "265   ربيع2016/2015         NaN        -1    مسلم  ...   لا   لا  نعم  نعم   \n",
       "266  خريف 2015\\2016         NaN        -1    مسلم  ...   لا   لا  نعم  نعم   \n",
       "267  خريف2020/2019          NaN        -1    مسلم  ...   لا   لا   لا   لا   \n",
       "\n",
       "     Q41  Q42  Q43  Q44  Q45       الكلية  \n",
       "0     لا  نعم  نعم   لا   لا  الآداب سبها  \n",
       "1    نعم   لا  نعم  نعم   لا  الآداب سبها  \n",
       "2     لا  نعم   لا  نعم   لا  الآداب سبها  \n",
       "3     لا  نعم  نعم   لا   لا  الآداب سبها  \n",
       "4     لا   لا  نعم   لا   لا  الآداب سبها  \n",
       "..   ...  ...  ...  ...  ...          ...  \n",
       "263  نعم  نعم  نعم   لا  نعم  الآداب سبها  \n",
       "264  نعم  نعم  نعم   لا  نعم  الآداب سبها  \n",
       "265  نعم  نعم  نعم   لا  نعم  الآداب سبها  \n",
       "266  نعم  نعم  نعم   لا  نعم  الآداب سبها  \n",
       "267   لا  نعم  نعم   لا   لا  الآداب سبها  \n",
       "\n",
       "[268 rows x 57 columns]"
      ]
     },
     "execution_count": 153,
     "metadata": {},
     "output_type": "execute_result"
    }
   ],
   "source": [
    "hh"
   ]
  },
  {
   "cell_type": "code",
   "execution_count": null,
   "metadata": {},
   "outputs": [],
   "source": [
    "z = input('X')\n",
    "x = a / 3 + 2\n",
    "if(x <= 7):\n",
    "    x=x-3\n",
    "    print x\n",
    "else:\n",
    "    print x"
   ]
  },
  {
   "cell_type": "code",
   "execution_count": null,
   "metadata": {},
   "outputs": [],
   "source": [
    "z = input('X')\n",
    "x = a / 3 + 2\n",
    "if(x <= 7):\n",
    "    x=x-3\n",
    "    print x\n",
    "else:\n",
    "    print x"
   ]
  }
 ],
 "metadata": {
  "kernelspec": {
   "display_name": "Python 3",
   "language": "python",
   "name": "python3"
  },
  "language_info": {
   "codemirror_mode": {
    "name": "ipython",
    "version": 3
   },
   "file_extension": ".py",
   "mimetype": "text/x-python",
   "name": "python",
   "nbconvert_exporter": "python",
   "pygments_lexer": "ipython3",
   "version": "3.7.6"
  }
 },
 "nbformat": 4,
 "nbformat_minor": 4
}
