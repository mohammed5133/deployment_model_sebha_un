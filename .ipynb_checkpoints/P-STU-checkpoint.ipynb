{
 "cells": [
  {
   "cell_type": "code",
   "execution_count": 1,
   "metadata": {},
   "outputs": [],
   "source": [
    "##Load the necessary Libraries\n",
    "import numpy as np\n",
    "import pandas as pd\n",
    "# from pandas_datareader import data as web\n",
    "import os\n",
    "import analysis_utils\n",
    "\n",
    "# from textblob import TextBlob\n",
    "import re\n",
    "import string\n",
    "\n",
    "import matplotlib.pyplot as plt\n",
    "plt.style.use('fivethirtyeight')\n",
    "import seaborn as sns\n",
    "# import missingno as msno\n",
    "sns.set_style('whitegrid')\n",
    "%matplotlib inline"
   ]
  },
  {
   "cell_type": "code",
   "execution_count": 2,
   "metadata": {},
   "outputs": [],
   "source": [
    "df = pd.read_excel('xxxx.xlsx')"
   ]
  },
  {
   "cell_type": "code",
   "execution_count": 3,
   "metadata": {},
   "outputs": [
    {
     "name": "stdout",
     "output_type": "stream",
     "text": [
      "<class 'pandas.core.frame.DataFrame'>\n",
      "RangeIndex: 2694 entries, 0 to 2693\n",
      "Data columns (total 21 columns):\n",
      " #   Column   Non-Null Count  Dtype  \n",
      "---  ------   --------------  -----  \n",
      " 0   G        2694 non-null   int64  \n",
      " 1   HS       2693 non-null   float64\n",
      " 2   N        2694 non-null   int64  \n",
      " 3   SC       2685 non-null   float64\n",
      " 4   AD       2694 non-null   int64  \n",
      " 5   RLG      2682 non-null   float64\n",
      " 6   SS       2694 non-null   int64  \n",
      " 7   HS AVG1  2694 non-null   int64  \n",
      " 8   HS AVG   2359 non-null   float64\n",
      " 9   Q4       2635 non-null   float64\n",
      " 10  Q11      2632 non-null   float64\n",
      " 11  Q12      2632 non-null   float64\n",
      " 12  Q13      2631 non-null   float64\n",
      " 13  Q14      2629 non-null   float64\n",
      " 14  Q15      2630 non-null   float64\n",
      " 15  Q16      2629 non-null   float64\n",
      " 16  Q28      2628 non-null   float64\n",
      " 17  Q29      2628 non-null   float64\n",
      " 18  Q35      2627 non-null   float64\n",
      " 19  Q38      2627 non-null   float64\n",
      " 20  Class    2694 non-null   int64  \n",
      "dtypes: float64(15), int64(6)\n",
      "memory usage: 442.1 KB\n"
     ]
    }
   ],
   "source": [
    "df.info()"
   ]
  },
  {
   "cell_type": "code",
   "execution_count": 171,
   "metadata": {},
   "outputs": [],
   "source": [
    "# df['HS'] = df['HS'].fillna(0)"
   ]
  },
  {
   "cell_type": "code",
   "execution_count": 242,
   "metadata": {},
   "outputs": [],
   "source": [
    "df['HS'] = df['HS'].apply(\"int64\")"
   ]
  },
  {
   "cell_type": "code",
   "execution_count": 243,
   "metadata": {},
   "outputs": [],
   "source": [
    "df['SC'] = df['SC'].apply(\"int64\")"
   ]
  },
  {
   "cell_type": "code",
   "execution_count": 244,
   "metadata": {},
   "outputs": [],
   "source": [
    "df['RLG'] = df['RLG'].apply(\"int64\")"
   ]
  },
  {
   "cell_type": "code",
   "execution_count": 245,
   "metadata": {},
   "outputs": [],
   "source": [
    "df['Q4'] = df['Q4'].apply(\"int64\")"
   ]
  },
  {
   "cell_type": "code",
   "execution_count": 246,
   "metadata": {},
   "outputs": [],
   "source": [
    "df['Q11'] = df['Q11'].apply(\"int64\")"
   ]
  },
  {
   "cell_type": "code",
   "execution_count": 247,
   "metadata": {},
   "outputs": [],
   "source": [
    "df['Q12'] = df['Q12'].apply(\"int64\")"
   ]
  },
  {
   "cell_type": "code",
   "execution_count": 248,
   "metadata": {},
   "outputs": [],
   "source": [
    "df['Q13'] = df['Q13'].apply(\"int64\")"
   ]
  },
  {
   "cell_type": "code",
   "execution_count": 249,
   "metadata": {},
   "outputs": [],
   "source": [
    "df['Q14'] = df['Q14'].apply(\"int64\")"
   ]
  },
  {
   "cell_type": "code",
   "execution_count": 250,
   "metadata": {},
   "outputs": [],
   "source": [
    "df['Q15'] = df['Q15'].apply(\"int64\")"
   ]
  },
  {
   "cell_type": "code",
   "execution_count": 251,
   "metadata": {},
   "outputs": [],
   "source": [
    "df['Q16'] = df['Q16'].apply(\"int64\")"
   ]
  },
  {
   "cell_type": "code",
   "execution_count": 252,
   "metadata": {},
   "outputs": [],
   "source": [
    "df['Q28'] = df['Q28'].apply(\"int64\")"
   ]
  },
  {
   "cell_type": "code",
   "execution_count": 254,
   "metadata": {},
   "outputs": [],
   "source": [
    "df['Q29'] = df['Q29'].apply(\"int64\")"
   ]
  },
  {
   "cell_type": "code",
   "execution_count": 255,
   "metadata": {},
   "outputs": [],
   "source": [
    "df['Q35'] = df['Q35'].apply(\"int64\")"
   ]
  },
  {
   "cell_type": "code",
   "execution_count": 256,
   "metadata": {},
   "outputs": [],
   "source": [
    "df['Q38'] = df['Q38'].apply(\"int64\")"
   ]
  },
  {
   "cell_type": "code",
   "execution_count": 257,
   "metadata": {},
   "outputs": [],
   "source": [
    "df['HS AVG'] = df['HS AVG'].apply(\"int64\")"
   ]
  },
  {
   "cell_type": "code",
   "execution_count": 216,
   "metadata": {},
   "outputs": [],
   "source": [
    "# df.info()"
   ]
  },
  {
   "cell_type": "code",
   "execution_count": 215,
   "metadata": {},
   "outputs": [
    {
     "data": {
      "image/png": "[encoded data removed]",
      "text/plain": [
       "<Figure size 1296x432 with 1 Axes>"
      ]
     },
     "metadata": {
      "needs_background": "light"
     },
     "output_type": "display_data"
    },
    {
     "name": "stdout",
     "output_type": "stream",
     "text": [
      "G : % 0 With 0 missing values\n",
      "HS : % 0 With 1 missing values\n",
      "N : % 0 With 0 missing values\n",
      "SC : % 0 With 9 missing values\n",
      "AD : % 0 With 0 missing values\n",
      "RLG : % 0 With 12 missing values\n",
      "SS : % 0 With 0 missing values\n",
      "HS AVG1 : % 0 With 0 missing values\n",
      "HS AVG : % 12 With 335 missing values\n",
      "Q4 : % 2 With 59 missing values\n",
      "Q11 : % 2 With 62 missing values\n",
      "Q12 : % 2 With 62 missing values\n",
      "Q13 : % 2 With 63 missing values\n",
      "Q14 : % 2 With 65 missing values\n",
      "Q15 : % 2 With 64 missing values\n",
      "Q16 : % 2 With 65 missing values\n",
      "Q28 : % 2 With 66 missing values\n",
      "Q29 : % 2 With 66 missing values\n",
      "Q35 : % 2 With 67 missing values\n",
      "Q38 : % 2 With 67 missing values\n",
      "Class : % 0 With 0 missing values\n"
     ]
    }
   ],
   "source": [
    "analysis_utils.missing_heat_map(df)"
   ]
  },
  {
   "cell_type": "code",
   "execution_count": 226,
   "metadata": {
    "scrolled": true
   },
   "outputs": [
    {
     "data": {
      "text/plain": [
       "G            0\n",
       "HS           0\n",
       "N            0\n",
       "SC           9\n",
       "AD           0\n",
       "RLG          0\n",
       "SS           0\n",
       "HS AVG1      0\n",
       "HS AVG     335\n",
       "Q4          59\n",
       "Q11         62\n",
       "Q12         62\n",
       "Q13         63\n",
       "Q14         65\n",
       "Q15         64\n",
       "Q16         65\n",
       "Q28         66\n",
       "Q29         66\n",
       "Q35         67\n",
       "Q38         67\n",
       "Class        0\n",
       "dtype: int64"
      ]
     },
     "execution_count": 226,
     "metadata": {},
     "output_type": "execute_result"
    }
   ],
   "source": [
    "df.isna().sum()"
   ]
  },
  {
   "cell_type": "markdown",
   "metadata": {},
   "source": [
    "# Process Cloumns With Missing Data and Replacy Blank Values with values"
   ]
  },
  {
   "cell_type": "code",
   "execution_count": 224,
   "metadata": {},
   "outputs": [],
   "source": [
    "# Replace missing values wite zero dataset blanced\n",
    "df['HS'].fillna(1,inplace=True)\n",
    "\n",
    "# tweet_data_alm_unblanced.isna().any()"
   ]
  },
  {
   "cell_type": "code",
   "execution_count": 225,
   "metadata": {},
   "outputs": [],
   "source": [
    "df['RLG'].fillna(1,inplace=True)"
   ]
  },
  {
   "cell_type": "code",
   "execution_count": 233,
   "metadata": {},
   "outputs": [],
   "source": [
    "#handling missing value AVG\n",
    "df['HS AVG'] = df['HS AVG'].fillna(df['HS AVG'].mean())"
   ]
  },
  {
   "cell_type": "code",
   "execution_count": 231,
   "metadata": {},
   "outputs": [],
   "source": [
    "df['HS AVG'] = df['HS AVG'].fillna(df['HS AVG'].mode()[0])"
   ]
  },
  {
   "cell_type": "code",
   "execution_count": 236,
   "metadata": {},
   "outputs": [
    {
     "data": {
      "text/plain": [
       "81.18"
      ]
     },
     "execution_count": 236,
     "metadata": {},
     "output_type": "execute_result"
    }
   ],
   "source": [
    "df['HS AVG'].median()"
   ]
  },
  {
   "cell_type": "code",
   "execution_count": 217,
   "metadata": {},
   "outputs": [
    {
     "data": {
      "text/plain": [
       "1.0    2282\n",
       "2.0     411\n",
       "Name: HS, dtype: int64"
      ]
     },
     "execution_count": 217,
     "metadata": {},
     "output_type": "execute_result"
    }
   ],
   "source": [
    "df['HS'].value_counts()"
   ]
  },
  {
   "cell_type": "code",
   "execution_count": 234,
   "metadata": {
    "scrolled": true
   },
   "outputs": [
    {
     "data": {
      "text/html": [
       "<div>\n",
       "<style scoped>\n",
       "    .dataframe tbody tr th:only-of-type {\n",
       "        vertical-align: middle;\n",
       "    }\n",
       "\n",
       "    .dataframe tbody tr th {\n",
       "        vertical-align: top;\n",
       "    }\n",
       "\n",
       "    .dataframe thead th {\n",
       "        text-align: right;\n",
       "    }\n",
       "</style>\n",
       "<table border=\"1\" class=\"dataframe\">\n",
       "  <thead>\n",
       "    <tr style=\"text-align: right;\">\n",
       "      <th></th>\n",
       "      <th>G</th>\n",
       "      <th>HS</th>\n",
       "      <th>N</th>\n",
       "      <th>SC</th>\n",
       "      <th>AD</th>\n",
       "      <th>RLG</th>\n",
       "      <th>SS</th>\n",
       "      <th>HS AVG1</th>\n",
       "      <th>HS AVG</th>\n",
       "      <th>Q4</th>\n",
       "      <th>...</th>\n",
       "      <th>Q12</th>\n",
       "      <th>Q13</th>\n",
       "      <th>Q14</th>\n",
       "      <th>Q15</th>\n",
       "      <th>Q16</th>\n",
       "      <th>Q28</th>\n",
       "      <th>Q29</th>\n",
       "      <th>Q35</th>\n",
       "      <th>Q38</th>\n",
       "      <th>Class</th>\n",
       "    </tr>\n",
       "  </thead>\n",
       "  <tbody>\n",
       "    <tr>\n",
       "      <th>0</th>\n",
       "      <td>2</td>\n",
       "      <td>2.0</td>\n",
       "      <td>1</td>\n",
       "      <td>1.0</td>\n",
       "      <td>1</td>\n",
       "      <td>1.0</td>\n",
       "      <td>1</td>\n",
       "      <td>2</td>\n",
       "      <td>71.470000</td>\n",
       "      <td>2.0</td>\n",
       "      <td>...</td>\n",
       "      <td>2.0</td>\n",
       "      <td>1.0</td>\n",
       "      <td>4.0</td>\n",
       "      <td>1.0</td>\n",
       "      <td>4.0</td>\n",
       "      <td>1.0</td>\n",
       "      <td>3.0</td>\n",
       "      <td>2.0</td>\n",
       "      <td>2.0</td>\n",
       "      <td>1</td>\n",
       "    </tr>\n",
       "    <tr>\n",
       "      <th>1</th>\n",
       "      <td>2</td>\n",
       "      <td>2.0</td>\n",
       "      <td>1</td>\n",
       "      <td>1.0</td>\n",
       "      <td>1</td>\n",
       "      <td>1.0</td>\n",
       "      <td>1</td>\n",
       "      <td>0</td>\n",
       "      <td>81.317042</td>\n",
       "      <td>1.0</td>\n",
       "      <td>...</td>\n",
       "      <td>2.0</td>\n",
       "      <td>4.0</td>\n",
       "      <td>4.0</td>\n",
       "      <td>1.0</td>\n",
       "      <td>4.0</td>\n",
       "      <td>2.0</td>\n",
       "      <td>2.0</td>\n",
       "      <td>2.0</td>\n",
       "      <td>2.0</td>\n",
       "      <td>1</td>\n",
       "    </tr>\n",
       "    <tr>\n",
       "      <th>2</th>\n",
       "      <td>2</td>\n",
       "      <td>2.0</td>\n",
       "      <td>1</td>\n",
       "      <td>1.0</td>\n",
       "      <td>1</td>\n",
       "      <td>1.0</td>\n",
       "      <td>1</td>\n",
       "      <td>0</td>\n",
       "      <td>81.317042</td>\n",
       "      <td>1.0</td>\n",
       "      <td>...</td>\n",
       "      <td>1.0</td>\n",
       "      <td>4.0</td>\n",
       "      <td>4.0</td>\n",
       "      <td>1.0</td>\n",
       "      <td>4.0</td>\n",
       "      <td>3.0</td>\n",
       "      <td>2.0</td>\n",
       "      <td>2.0</td>\n",
       "      <td>1.0</td>\n",
       "      <td>1</td>\n",
       "    </tr>\n",
       "    <tr>\n",
       "      <th>3</th>\n",
       "      <td>1</td>\n",
       "      <td>2.0</td>\n",
       "      <td>1</td>\n",
       "      <td>2.0</td>\n",
       "      <td>1</td>\n",
       "      <td>1.0</td>\n",
       "      <td>1</td>\n",
       "      <td>3</td>\n",
       "      <td>82.720000</td>\n",
       "      <td>2.0</td>\n",
       "      <td>...</td>\n",
       "      <td>1.0</td>\n",
       "      <td>1.0</td>\n",
       "      <td>1.0</td>\n",
       "      <td>1.0</td>\n",
       "      <td>1.0</td>\n",
       "      <td>3.0</td>\n",
       "      <td>3.0</td>\n",
       "      <td>2.0</td>\n",
       "      <td>2.0</td>\n",
       "      <td>1</td>\n",
       "    </tr>\n",
       "    <tr>\n",
       "      <th>4</th>\n",
       "      <td>2</td>\n",
       "      <td>1.0</td>\n",
       "      <td>1</td>\n",
       "      <td>1.0</td>\n",
       "      <td>1</td>\n",
       "      <td>1.0</td>\n",
       "      <td>1</td>\n",
       "      <td>2</td>\n",
       "      <td>67.650000</td>\n",
       "      <td>1.0</td>\n",
       "      <td>...</td>\n",
       "      <td>2.0</td>\n",
       "      <td>4.0</td>\n",
       "      <td>1.0</td>\n",
       "      <td>1.0</td>\n",
       "      <td>4.0</td>\n",
       "      <td>4.0</td>\n",
       "      <td>3.0</td>\n",
       "      <td>2.0</td>\n",
       "      <td>1.0</td>\n",
       "      <td>1</td>\n",
       "    </tr>\n",
       "  </tbody>\n",
       "</table>\n",
       "<p>5 rows × 21 columns</p>\n",
       "</div>"
      ],
      "text/plain": [
       "   G   HS  N   SC  AD  RLG  SS  HS AVG1     HS AVG   Q4  ...  Q12  Q13  Q14  \\\n",
       "0  2  2.0  1  1.0   1  1.0   1        2  71.470000  2.0  ...  2.0  1.0  4.0   \n",
       "1  2  2.0  1  1.0   1  1.0   1        0  81.317042  1.0  ...  2.0  4.0  4.0   \n",
       "2  2  2.0  1  1.0   1  1.0   1        0  81.317042  1.0  ...  1.0  4.0  4.0   \n",
       "3  1  2.0  1  2.0   1  1.0   1        3  82.720000  2.0  ...  1.0  1.0  1.0   \n",
       "4  2  1.0  1  1.0   1  1.0   1        2  67.650000  1.0  ...  2.0  4.0  1.0   \n",
       "\n",
       "   Q15  Q16  Q28  Q29  Q35  Q38  Class  \n",
       "0  1.0  4.0  1.0  3.0  2.0  2.0      1  \n",
       "1  1.0  4.0  2.0  2.0  2.0  2.0      1  \n",
       "2  1.0  4.0  3.0  2.0  2.0  1.0      1  \n",
       "3  1.0  1.0  3.0  3.0  2.0  2.0      1  \n",
       "4  1.0  4.0  4.0  3.0  2.0  1.0      1  \n",
       "\n",
       "[5 rows x 21 columns]"
      ]
     },
     "execution_count": 234,
     "metadata": {},
     "output_type": "execute_result"
    }
   ],
   "source": [
    "df.head(5)"
   ]
  },
  {
   "cell_type": "code",
   "execution_count": 82,
   "metadata": {},
   "outputs": [
    {
     "data": {
      "text/plain": [
       "2    946\n",
       "3    441\n",
       "7    345\n",
       "6    311\n",
       "1    268\n",
       "5    245\n",
       "4    138\n",
       "Name: Class, dtype: int64"
      ]
     },
     "execution_count": 82,
     "metadata": {},
     "output_type": "execute_result"
    }
   ],
   "source": [
    "df['Class'].value_counts()"
   ]
  },
  {
   "cell_type": "code",
   "execution_count": 81,
   "metadata": {},
   "outputs": [
    {
     "data": {
      "text/plain": [
       "Text(0.5, 1.0, 'STU - DataSET')"
      ]
     },
     "execution_count": 81,
     "metadata": {},
     "output_type": "execute_result"
    },
    {
     "data": {
      "image/png": "[encoded data removed]",
      "text/plain": [
       "<Figure size 432x288 with 1 Axes>"
      ]
     },
     "metadata": {
      "needs_background": "light"
     },
     "output_type": "display_data"
    }
   ],
   "source": [
    "sns.countplot(data=df, x='Class',).set_title(\"STU - DataSET\")"
   ]
  },
  {
   "cell_type": "code",
   "execution_count": 314,
   "metadata": {},
   "outputs": [],
   "source": [
    "# from sklearn.preprocessing import LabelEncoder\n",
    "\n",
    "# for column in df.columns:\n",
    "#         if df[column].dtype != object:\n",
    "#             continue\n",
    "#         df[column] = lib.fit_transform(df[column].astype(str))"
   ]
  },
  {
   "cell_type": "code",
   "execution_count": 258,
   "metadata": {},
   "outputs": [],
   "source": [
    "import unicodedata as ud\n",
    "import codecs\n",
    "from itertools import islice\n",
    "from sklearn.feature_extraction.text import TfidfVectorizer\n",
    "from sklearn.naive_bayes import MultinomialNB\n",
    "from sklearn import metrics\n",
    "from sklearn.model_selection import train_test_split, GridSearchCV\n",
    "from sklearn.feature_extraction.text import CountVectorizer\n",
    "from sklearn.svm import SVC\n",
    "from sklearn.metrics import classification_report,accuracy_score\n",
    "from sklearn.linear_model import LogisticRegression\n",
    "from sklearn.model_selection import GridSearchCV, RandomizedSearchCV\n",
    "from sklearn.pipeline import Pipeline\n",
    "from scipy import stats\n",
    "from sklearn.preprocessing import LabelEncoder\n",
    "from sklearn.metrics import accuracy_score,recall_score, precision_score, confusion_matrix\n",
    "from sklearn.metrics import mean_squared_error, median_absolute_error\n",
    "from sklearn.metrics import plot_confusion_matrix"
   ]
  },
  {
   "cell_type": "code",
   "execution_count": 259,
   "metadata": {},
   "outputs": [],
   "source": [
    "from sklearn.linear_model import LogisticRegression\n",
    "from sklearn.svm import SVC\n",
    "from sklearn.naive_bayes import MultinomialNB\n",
    "from sklearn.tree import DecisionTreeClassifier\n",
    "from sklearn.neighbors import KNeighborsClassifier\n",
    "from sklearn.ensemble import RandomForestClassifier"
   ]
  },
  {
   "cell_type": "code",
   "execution_count": null,
   "metadata": {},
   "outputs": [],
   "source": []
  },
  {
   "cell_type": "code",
   "execution_count": 264,
   "metadata": {},
   "outputs": [
    {
     "data": {
      "text/html": [
       "<div>\n",
       "<style scoped>\n",
       "    .dataframe tbody tr th:only-of-type {\n",
       "        vertical-align: middle;\n",
       "    }\n",
       "\n",
       "    .dataframe tbody tr th {\n",
       "        vertical-align: top;\n",
       "    }\n",
       "\n",
       "    .dataframe thead th {\n",
       "        text-align: right;\n",
       "    }\n",
       "</style>\n",
       "<table border=\"1\" class=\"dataframe\">\n",
       "  <thead>\n",
       "    <tr style=\"text-align: right;\">\n",
       "      <th></th>\n",
       "      <th>G</th>\n",
       "      <th>HS</th>\n",
       "      <th>N</th>\n",
       "      <th>SC</th>\n",
       "      <th>AD</th>\n",
       "      <th>RLG</th>\n",
       "      <th>SS</th>\n",
       "      <th>HS AVG1</th>\n",
       "      <th>HS AVG</th>\n",
       "      <th>Q4</th>\n",
       "      <th>...</th>\n",
       "      <th>Q12</th>\n",
       "      <th>Q13</th>\n",
       "      <th>Q14</th>\n",
       "      <th>Q15</th>\n",
       "      <th>Q16</th>\n",
       "      <th>Q28</th>\n",
       "      <th>Q29</th>\n",
       "      <th>Q35</th>\n",
       "      <th>Q38</th>\n",
       "      <th>Class</th>\n",
       "    </tr>\n",
       "  </thead>\n",
       "  <tbody>\n",
       "    <tr>\n",
       "      <th>0</th>\n",
       "      <td>2</td>\n",
       "      <td>2</td>\n",
       "      <td>1</td>\n",
       "      <td>1</td>\n",
       "      <td>1</td>\n",
       "      <td>1</td>\n",
       "      <td>1</td>\n",
       "      <td>2</td>\n",
       "      <td>71</td>\n",
       "      <td>2</td>\n",
       "      <td>...</td>\n",
       "      <td>2</td>\n",
       "      <td>1</td>\n",
       "      <td>4</td>\n",
       "      <td>1</td>\n",
       "      <td>4</td>\n",
       "      <td>1</td>\n",
       "      <td>3</td>\n",
       "      <td>2</td>\n",
       "      <td>2</td>\n",
       "      <td>1</td>\n",
       "    </tr>\n",
       "    <tr>\n",
       "      <th>1</th>\n",
       "      <td>2</td>\n",
       "      <td>2</td>\n",
       "      <td>1</td>\n",
       "      <td>1</td>\n",
       "      <td>1</td>\n",
       "      <td>1</td>\n",
       "      <td>1</td>\n",
       "      <td>0</td>\n",
       "      <td>81</td>\n",
       "      <td>1</td>\n",
       "      <td>...</td>\n",
       "      <td>2</td>\n",
       "      <td>4</td>\n",
       "      <td>4</td>\n",
       "      <td>1</td>\n",
       "      <td>4</td>\n",
       "      <td>2</td>\n",
       "      <td>2</td>\n",
       "      <td>2</td>\n",
       "      <td>2</td>\n",
       "      <td>1</td>\n",
       "    </tr>\n",
       "    <tr>\n",
       "      <th>2</th>\n",
       "      <td>2</td>\n",
       "      <td>2</td>\n",
       "      <td>1</td>\n",
       "      <td>1</td>\n",
       "      <td>1</td>\n",
       "      <td>1</td>\n",
       "      <td>1</td>\n",
       "      <td>0</td>\n",
       "      <td>81</td>\n",
       "      <td>1</td>\n",
       "      <td>...</td>\n",
       "      <td>1</td>\n",
       "      <td>4</td>\n",
       "      <td>4</td>\n",
       "      <td>1</td>\n",
       "      <td>4</td>\n",
       "      <td>3</td>\n",
       "      <td>2</td>\n",
       "      <td>2</td>\n",
       "      <td>1</td>\n",
       "      <td>1</td>\n",
       "    </tr>\n",
       "    <tr>\n",
       "      <th>3</th>\n",
       "      <td>1</td>\n",
       "      <td>2</td>\n",
       "      <td>1</td>\n",
       "      <td>2</td>\n",
       "      <td>1</td>\n",
       "      <td>1</td>\n",
       "      <td>1</td>\n",
       "      <td>3</td>\n",
       "      <td>82</td>\n",
       "      <td>2</td>\n",
       "      <td>...</td>\n",
       "      <td>1</td>\n",
       "      <td>1</td>\n",
       "      <td>1</td>\n",
       "      <td>1</td>\n",
       "      <td>1</td>\n",
       "      <td>3</td>\n",
       "      <td>3</td>\n",
       "      <td>2</td>\n",
       "      <td>2</td>\n",
       "      <td>1</td>\n",
       "    </tr>\n",
       "    <tr>\n",
       "      <th>4</th>\n",
       "      <td>2</td>\n",
       "      <td>1</td>\n",
       "      <td>1</td>\n",
       "      <td>1</td>\n",
       "      <td>1</td>\n",
       "      <td>1</td>\n",
       "      <td>1</td>\n",
       "      <td>2</td>\n",
       "      <td>67</td>\n",
       "      <td>1</td>\n",
       "      <td>...</td>\n",
       "      <td>2</td>\n",
       "      <td>4</td>\n",
       "      <td>1</td>\n",
       "      <td>1</td>\n",
       "      <td>4</td>\n",
       "      <td>4</td>\n",
       "      <td>3</td>\n",
       "      <td>2</td>\n",
       "      <td>1</td>\n",
       "      <td>1</td>\n",
       "    </tr>\n",
       "  </tbody>\n",
       "</table>\n",
       "<p>5 rows × 21 columns</p>\n",
       "</div>"
      ],
      "text/plain": [
       "   G  HS  N  SC  AD  RLG  SS  HS AVG1  HS AVG  Q4  ...  Q12  Q13  Q14  Q15  \\\n",
       "0  2   2  1   1   1    1   1        2      71   2  ...    2    1    4    1   \n",
       "1  2   2  1   1   1    1   1        0      81   1  ...    2    4    4    1   \n",
       "2  2   2  1   1   1    1   1        0      81   1  ...    1    4    4    1   \n",
       "3  1   2  1   2   1    1   1        3      82   2  ...    1    1    1    1   \n",
       "4  2   1  1   1   1    1   1        2      67   1  ...    2    4    1    1   \n",
       "\n",
       "   Q16  Q28  Q29  Q35  Q38  Class  \n",
       "0    4    1    3    2    2      1  \n",
       "1    4    2    2    2    2      1  \n",
       "2    4    3    2    2    1      1  \n",
       "3    1    3    3    2    2      1  \n",
       "4    4    4    3    2    1      1  \n",
       "\n",
       "[5 rows x 21 columns]"
      ]
     },
     "execution_count": 264,
     "metadata": {},
     "output_type": "execute_result"
    }
   ],
   "source": [
    "df.head()"
   ]
  },
  {
   "cell_type": "code",
   "execution_count": 265,
   "metadata": {},
   "outputs": [],
   "source": [
    "X = df.drop(['HS AVG1','RLG','Class'],axis=1)\n",
    "y = df['Class']"
   ]
  },
  {
   "cell_type": "code",
   "execution_count": 266,
   "metadata": {},
   "outputs": [
    {
     "name": "stdout",
     "output_type": "stream",
     "text": [
      "(2155, 18)\n",
      "(539, 18)\n"
     ]
    }
   ],
   "source": [
    "from sklearn.model_selection import train_test_split\n",
    "from sklearn.preprocessing import MinMaxScaler\n",
    "\n",
    "\n",
    "X_train, X_test, y_train, y_test = train_test_split(X,y,test_size=0.2,random_state=101)\n",
    "\n",
    "# scaler = MinMaxScaler()\n",
    "\n",
    "# X_train= scaler.fit_transform(X_train)\n",
    "# X_test = scaler.transform(X_test)\n",
    "\n",
    "print(X_train.shape)\n",
    "print(X_test.shape)"
   ]
  },
  {
   "cell_type": "code",
   "execution_count": null,
   "metadata": {},
   "outputs": [],
   "source": []
  },
  {
   "cell_type": "code",
   "execution_count": 269,
   "metadata": {},
   "outputs": [
    {
     "name": "stdout",
     "output_type": "stream",
     "text": [
      "[0.6289424860853432, 0.6178107606679035, 0.614100185528757, 0.614100185528757, 0.614100185528757, 0.614100185528757, 0.6122448979591837, 0.6103896103896104, 0.6103896103896104, 0.6103896103896104, 0.6103896103896104, 0.6103896103896104, 0.608534322820037, 0.608534322820037, 0.608534322820037, 0.608534322820037, 0.6066790352504638, 0.6048237476808905, 0.6048237476808905, 0.601113172541744, 0.5992578849721707, 0.5992578849721707, 0.5992578849721707, 0.5992578849721707, 0.5974025974025974, 0.5955473098330241, 0.5955473098330241, 0.5955473098330241, 0.5936920222634509, 0.5918367346938775, 0.5899814471243042]\n",
      "0.6056616194865042\n"
     ]
    }
   ],
   "source": [
    "sc=[]\n",
    "for i in range(31):\n",
    "    d_tree = DecisionTreeClassifier().fit(X_train,y_train)\n",
    "    score_ds = d_tree.score(X_test, y_test)\n",
    "    sc.append(score_ds)\n",
    "print(sorted(sc, reverse=True))\n",
    "print(np.mean(sc))"
   ]
  },
  {
   "cell_type": "code",
   "execution_count": 282,
   "metadata": {},
   "outputs": [],
   "source": [
    "d_tree = DecisionTreeClassifier(random_state=0).fit(X_train,y_train)"
   ]
  },
  {
   "cell_type": "code",
   "execution_count": 283,
   "metadata": {
    "scrolled": true
   },
   "outputs": [
    {
     "name": "stdout",
     "output_type": "stream",
     "text": [
      "              precision    recall  f1-score   support\n",
      "\n",
      "           1       0.92      0.87      0.90        69\n",
      "           2       0.60      0.61      0.60       180\n",
      "           3       0.43      0.41      0.42        96\n",
      "           4       1.00      0.96      0.98        25\n",
      "           5       0.62      0.57      0.59        51\n",
      "           6       0.72      0.79      0.75        56\n",
      "           7       0.34      0.39      0.36        62\n",
      "\n",
      "    accuracy                           0.61       539\n",
      "   macro avg       0.66      0.65      0.66       539\n",
      "weighted avg       0.62      0.61      0.61       539\n",
      "\n",
      "Decision Tree Accuracy: 61.038961038961034 0.9832946635730858\n"
     ]
    }
   ],
   "source": [
    "print(classification_report( d_tree.predict(X_test) , y_test))\n",
    "print(\"Decision Tree Accuracy:\",accuracy_score( d_tree.predict(X_test) , y_test )*100,accuracy_score( d_tree.predict(X_train) , y_train ))"
   ]
  },
  {
   "cell_type": "code",
   "execution_count": 237,
   "metadata": {},
   "outputs": [],
   "source": [
    "# print(classification_report( d_tree.predict(X_test) , y_test))\n",
    "# print(\"Decision Tree Accuracy:\",accuracy_score( d_tree.predict(X_test) , y_test )*100,accuracy_score( d_tree.predict(X_train) , y_train ))"
   ]
  },
  {
   "cell_type": "code",
   "execution_count": null,
   "metadata": {},
   "outputs": [],
   "source": []
  },
  {
   "cell_type": "code",
   "execution_count": 284,
   "metadata": {},
   "outputs": [],
   "source": [
    "from imblearn import under_sampling, over_sampling\n",
    "from collections import Counter"
   ]
  },
  {
   "cell_type": "code",
   "execution_count": 285,
   "metadata": {},
   "outputs": [
    {
     "name": "stdout",
     "output_type": "stream",
     "text": [
      "[(1, 946), (2, 946), (3, 946), (4, 946), (5, 946), (6, 946), (7, 946)] (6622,)\n"
     ]
    }
   ],
   "source": [
    "from imblearn.over_sampling import RandomOverSampler\n",
    "ros = RandomOverSampler(random_state=0)\n",
    "x_res, y_res = ros.fit_resample(X,y)\n",
    "print(sorted(Counter(y_res).items()), y_res.shape)\n",
    "# print(sorted(Counter(x_res).items()), x_res.shape)"
   ]
  },
  {
   "cell_type": "code",
   "execution_count": 286,
   "metadata": {},
   "outputs": [
    {
     "name": "stdout",
     "output_type": "stream",
     "text": [
      "[(1, 138), (2, 138), (3, 138), (4, 138), (5, 138), (6, 138), (7, 138)] (966,)\n"
     ]
    }
   ],
   "source": [
    "from imblearn.under_sampling import RandomUnderSampler\n",
    "rus = RandomUnderSampler(random_state=0)\n",
    "x_rus, y_rus = rus.fit_resample(X,y)\n",
    "print(sorted(Counter(y_rus).items()), y_rus.shape)"
   ]
  },
  {
   "cell_type": "code",
   "execution_count": 287,
   "metadata": {},
   "outputs": [
    {
     "name": "stdout",
     "output_type": "stream",
     "text": [
      "(5297, 18)\n",
      "(1325, 18)\n"
     ]
    }
   ],
   "source": [
    "from sklearn.model_selection import train_test_split\n",
    "from sklearn.preprocessing import MinMaxScaler\n",
    "\n",
    "\n",
    "X_train, X_test, y_train, y_test = train_test_split(x_res,y_res,test_size=0.2,random_state=101)\n",
    "\n",
    "# scaler = MinMaxScaler()\n",
    "\n",
    "# X_train= scaler.fit_transform(X_train)\n",
    "# X_test = scaler.transform(X_test)\n",
    "\n",
    "print(X_train.shape)\n",
    "print(X_test.shape)"
   ]
  },
  {
   "cell_type": "code",
   "execution_count": null,
   "metadata": {},
   "outputs": [],
   "source": []
  },
  {
   "cell_type": "code",
   "execution_count": 238,
   "metadata": {},
   "outputs": [],
   "source": [
    "# print(classification_report( clf.predict(X_test) , y_test))\n",
    "# print(\"SVC Accuracy:\",accuracy_score( clf.predict(X_test) , y_test )*100,accuracy_score( clf.predict(X_train) , y_train ))"
   ]
  },
  {
   "cell_type": "code",
   "execution_count": 293,
   "metadata": {},
   "outputs": [],
   "source": [
    "d_tree = DecisionTreeClassifier(random_state=42).fit(X_train,y_train)"
   ]
  },
  {
   "cell_type": "code",
   "execution_count": 295,
   "metadata": {},
   "outputs": [],
   "source": [
    "d_tree.score(X_test,y_test)"
   ]
  },
  {
   "cell_type": "code",
   "execution_count": 290,
   "metadata": {},
   "outputs": [
    {
     "data": {
      "text/plain": [
       "Text(0.5, 1.0, '')"
      ]
     },
     "execution_count": 290,
     "metadata": {},
     "output_type": "execute_result"
    },
    {
     "data": {
      "image/png": "[encoded data removed]",
      "text/plain": [
       "<Figure size 432x288 with 1 Axes>"
      ]
     },
     "metadata": {
      "needs_background": "light"
     },
     "output_type": "display_data"
    }
   ],
   "source": [
    "sns.countplot(data=df, x='Class',).set_title(\"\")"
   ]
  },
  {
   "cell_type": "code",
   "execution_count": 116,
   "metadata": {},
   "outputs": [
    {
     "name": "stderr",
     "output_type": "stream",
     "text": [
      "C:\\myAnaconda\\lib\\site-packages\\sklearn\\base.py:451: UserWarning: X does not have valid feature names, but DecisionTreeClassifier was fitted with feature names\n",
      "  \"X does not have valid feature names, but\"\n"
     ]
    },
    {
     "data": {
      "text/plain": [
       "array([1], dtype=int64)"
      ]
     },
     "execution_count": 116,
     "metadata": {},
     "output_type": "execute_result"
    }
   ],
   "source": [
    "data = [[1,2,2,4,1,3,0,1,1,1,5,3,2,5,1,1,1,2]]\n",
    "result = d_tree.predict(data)\n",
    "result"
   ]
  },
  {
   "cell_type": "code",
   "execution_count": 70,
   "metadata": {},
   "outputs": [],
   "source": [
    "lib =  LabelEncoder()"
   ]
  },
  {
   "cell_type": "code",
   "execution_count": 118,
   "metadata": {},
   "outputs": [
    {
     "name": "stderr",
     "output_type": "stream",
     "text": [
      "C:\\myAnaconda\\lib\\site-packages\\sklearn\\base.py:451: UserWarning: X does not have valid feature names, but DecisionTreeClassifier was fitted with feature names\n",
      "  \"X does not have valid feature names, but\"\n"
     ]
    },
    {
     "data": {
      "text/plain": [
       "array([2], dtype=int64)"
      ]
     },
     "execution_count": 118,
     "metadata": {},
     "output_type": "execute_result"
    }
   ],
   "source": [
    "msg = [[0,0,4,3,0,0,3,4,2,10,2,8,9,1,1,1,1,2]] \n",
    "# data = [msg]\n",
    "# v = lib.fit_transform(data)\n",
    "# v\n",
    "result = d_tree.predict(msg)\n",
    "result"
   ]
  },
  {
   "cell_type": "code",
   "execution_count": null,
   "metadata": {},
   "outputs": [],
   "source": []
  }
 ],
 "metadata": {
  "kernelspec": {
   "display_name": "Python 3",
   "language": "python",
   "name": "python3"
  },
  "language_info": {
   "codemirror_mode": {
    "name": "ipython",
    "version": 3
   },
   "file_extension": ".py",
   "mimetype": "text/x-python",
   "name": "python",
   "nbconvert_exporter": "python",
   "pygments_lexer": "ipython3",
   "version": "3.7.6"
  }
 },
 "nbformat": 4,
 "nbformat_minor": 4
}
