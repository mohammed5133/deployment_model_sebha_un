{
 "cells": [
  {
   "cell_type": "code",
   "execution_count": 3,
   "metadata": {},
   "outputs": [],
   "source": [
    "import numpy as np\n",
    "import pandas as pd\n",
    "from sklearn.model_selection import train_test_split\n",
    "from sklearn import svm\n",
    "from sklearn.metrics import accuracy_score\n",
    "import analysis_utils"
   ]
  },
  {
   "cell_type": "code",
   "execution_count": 4,
   "metadata": {},
   "outputs": [],
   "source": [
    "# pip install sklearn"
   ]
  },
  {
   "cell_type": "code",
   "execution_count": 5,
   "metadata": {},
   "outputs": [],
   "source": [
    "# pip install streamlit"
   ]
  },
  {
   "cell_type": "code",
   "execution_count": 6,
   "metadata": {},
   "outputs": [],
   "source": [
    "diabetes_dataset = pd.read_excel('full-STU1.xlsx')"
   ]
  },
  {
   "cell_type": "code",
   "execution_count": 7,
   "metadata": {},
   "outputs": [],
   "source": [
    "diabetes_dataset['G'] = diabetes_dataset['HS'].apply(\"int64\")"
   ]
  },
  {
   "cell_type": "code",
   "execution_count": 8,
   "metadata": {},
   "outputs": [],
   "source": [
    "diabetes_dataset['HS'] = diabetes_dataset['HS'].apply(\"int64\")"
   ]
  },
  {
   "cell_type": "code",
   "execution_count": 9,
   "metadata": {},
   "outputs": [],
   "source": [
    "diabetes_dataset['N'] = diabetes_dataset['N'].apply(\"int64\")"
   ]
  },
  {
   "cell_type": "code",
   "execution_count": 10,
   "metadata": {},
   "outputs": [],
   "source": [
    "diabetes_dataset['SC'] = diabetes_dataset['SC'].apply(\"int64\")"
   ]
  },
  {
   "cell_type": "code",
   "execution_count": 11,
   "metadata": {},
   "outputs": [],
   "source": [
    "diabetes_dataset['AD'] = diabetes_dataset['AD'].apply(\"int64\")"
   ]
  },
  {
   "cell_type": "code",
   "execution_count": 12,
   "metadata": {},
   "outputs": [],
   "source": [
    "diabetes_dataset['SS'] = diabetes_dataset['SS'].apply(\"int64\")"
   ]
  },
  {
   "cell_type": "code",
   "execution_count": 13,
   "metadata": {},
   "outputs": [],
   "source": [
    "diabetes_dataset['RLG'] = diabetes_dataset['RLG'].apply(\"int64\")"
   ]
  },
  {
   "cell_type": "code",
   "execution_count": 14,
   "metadata": {},
   "outputs": [],
   "source": [
    "diabetes_dataset['HS AVG'] = diabetes_dataset['HS AVG'].apply(\"int64\")"
   ]
  },
  {
   "cell_type": "code",
   "execution_count": 15,
   "metadata": {},
   "outputs": [],
   "source": [
    "diabetes_dataset['Q4'] = diabetes_dataset['Q4'].apply(\"int64\")"
   ]
  },
  {
   "cell_type": "code",
   "execution_count": 16,
   "metadata": {},
   "outputs": [],
   "source": [
    "diabetes_dataset['Q11'] = diabetes_dataset['Q11'].apply(\"int64\")"
   ]
  },
  {
   "cell_type": "code",
   "execution_count": 17,
   "metadata": {},
   "outputs": [],
   "source": [
    "diabetes_dataset['Q12'] = diabetes_dataset['Q12'].apply(\"int64\")"
   ]
  },
  {
   "cell_type": "code",
   "execution_count": 18,
   "metadata": {},
   "outputs": [],
   "source": [
    "diabetes_dataset['Q13'] = diabetes_dataset['Q13'].apply(\"int64\")"
   ]
  },
  {
   "cell_type": "code",
   "execution_count": 19,
   "metadata": {},
   "outputs": [],
   "source": [
    "diabetes_dataset['Q14'] = diabetes_dataset['Q14'].apply(\"int64\")"
   ]
  },
  {
   "cell_type": "code",
   "execution_count": 20,
   "metadata": {},
   "outputs": [],
   "source": [
    "diabetes_dataset['Q15'] = diabetes_dataset['Q15'].apply(\"int64\")"
   ]
  },
  {
   "cell_type": "code",
   "execution_count": 21,
   "metadata": {},
   "outputs": [],
   "source": [
    "diabetes_dataset['Q16'] = diabetes_dataset['Q16'].apply(\"int64\")"
   ]
  },
  {
   "cell_type": "code",
   "execution_count": 22,
   "metadata": {},
   "outputs": [],
   "source": [
    "diabetes_dataset['Q28'] = diabetes_dataset['Q28'].apply(\"int64\")"
   ]
  },
  {
   "cell_type": "code",
   "execution_count": 23,
   "metadata": {},
   "outputs": [],
   "source": [
    "diabetes_dataset['Q29'] = diabetes_dataset['Q29'].apply(\"int64\")"
   ]
  },
  {
   "cell_type": "code",
   "execution_count": 24,
   "metadata": {},
   "outputs": [],
   "source": [
    "diabetes_dataset['Q35'] = diabetes_dataset['Q35'].apply(\"int64\")"
   ]
  },
  {
   "cell_type": "code",
   "execution_count": 25,
   "metadata": {},
   "outputs": [],
   "source": [
    "diabetes_dataset['Q38'] = diabetes_dataset['Q38'].apply(\"int64\")"
   ]
  },
  {
   "cell_type": "code",
   "execution_count": 26,
   "metadata": {},
   "outputs": [],
   "source": [
    "diabetes_dataset['Class'] = diabetes_dataset['Class'].apply(\"int64\")"
   ]
  },
  {
   "cell_type": "code",
   "execution_count": 27,
   "metadata": {
    "scrolled": true
   },
   "outputs": [
    {
     "data": {
      "image/png": "[encoded data removed]",
      "text/plain": [
       "<Figure size 1296x432 with 1 Axes>"
      ]
     },
     "metadata": {
      "needs_background": "light"
     },
     "output_type": "display_data"
    },
    {
     "name": "stdout",
     "output_type": "stream",
     "text": [
      "G : % 0 With 0 missing values\n",
      "HS : % 0 With 0 missing values\n",
      "N : % 0 With 0 missing values\n",
      "SC : % 0 With 0 missing values\n",
      "AD : % 0 With 0 missing values\n",
      "RLG : % 0 With 0 missing values\n",
      "SS : % 0 With 0 missing values\n",
      "HS AVG1 : % 0 With 0 missing values\n",
      "HS AVG : % 0 With 0 missing values\n",
      "Q4 : % 0 With 0 missing values\n",
      "Q11 : % 0 With 0 missing values\n",
      "Q12 : % 0 With 0 missing values\n",
      "Q13 : % 0 With 0 missing values\n",
      "Q14 : % 0 With 0 missing values\n",
      "Q15 : % 0 With 0 missing values\n",
      "Q16 : % 0 With 0 missing values\n",
      "Q28 : % 0 With 0 missing values\n",
      "Q29 : % 0 With 0 missing values\n",
      "Q35 : % 0 With 0 missing values\n",
      "Q38 : % 0 With 0 missing values\n",
      "Class : % 0 With 0 missing values\n"
     ]
    }
   ],
   "source": [
    "analysis_utils.missing_heat_map(diabetes_dataset)"
   ]
  },
  {
   "cell_type": "code",
   "execution_count": 28,
   "metadata": {},
   "outputs": [
    {
     "name": "stdout",
     "output_type": "stream",
     "text": [
      "<class 'pandas.core.frame.DataFrame'>\n",
      "RangeIndex: 2632 entries, 0 to 2631\n",
      "Data columns (total 21 columns):\n",
      " #   Column   Non-Null Count  Dtype\n",
      "---  ------   --------------  -----\n",
      " 0   G        2632 non-null   int64\n",
      " 1   HS       2632 non-null   int64\n",
      " 2   N        2632 non-null   int64\n",
      " 3   SC       2632 non-null   int64\n",
      " 4   AD       2632 non-null   int64\n",
      " 5   RLG      2632 non-null   int64\n",
      " 6   SS       2632 non-null   int64\n",
      " 7   HS AVG1  2632 non-null   int64\n",
      " 8   HS AVG   2632 non-null   int64\n",
      " 9   Q4       2632 non-null   int64\n",
      " 10  Q11      2632 non-null   int64\n",
      " 11  Q12      2632 non-null   int64\n",
      " 12  Q13      2632 non-null   int64\n",
      " 13  Q14      2632 non-null   int64\n",
      " 14  Q15      2632 non-null   int64\n",
      " 15  Q16      2632 non-null   int64\n",
      " 16  Q28      2632 non-null   int64\n",
      " 17  Q29      2632 non-null   int64\n",
      " 18  Q35      2632 non-null   int64\n",
      " 19  Q38      2632 non-null   int64\n",
      " 20  Class    2632 non-null   int64\n",
      "dtypes: int64(21)\n",
      "memory usage: 431.9 KB\n"
     ]
    }
   ],
   "source": [
    "diabetes_dataset.info()"
   ]
  },
  {
   "cell_type": "code",
   "execution_count": 29,
   "metadata": {},
   "outputs": [
    {
     "data": {
      "text/plain": [
       "2    923\n",
       "3    429\n",
       "7    333\n",
       "6    299\n",
       "1    266\n",
       "5    244\n",
       "4    138\n",
       "Name: Class, dtype: int64"
      ]
     },
     "execution_count": 29,
     "metadata": {},
     "output_type": "execute_result"
    }
   ],
   "source": [
    "diabetes_dataset['Class'].value_counts()"
   ]
  },
  {
   "cell_type": "code",
   "execution_count": 30,
   "metadata": {},
   "outputs": [],
   "source": [
    "# separating the data and labels\n",
    "X = diabetes_dataset.drop(['RLG','HS AVG1','Class'], axis=1)\n",
    "Y = diabetes_dataset['Class']"
   ]
  },
  {
   "cell_type": "code",
   "execution_count": 31,
   "metadata": {},
   "outputs": [],
   "source": [
    "X_train, X_test, Y_train, Y_test = train_test_split(X,Y, test_size = 0.2, stratify=Y, random_state=2)"
   ]
  },
  {
   "cell_type": "code",
   "execution_count": 32,
   "metadata": {},
   "outputs": [
    {
     "name": "stdout",
     "output_type": "stream",
     "text": [
      "(2632, 18) (2105, 18) (527, 18)\n"
     ]
    }
   ],
   "source": [
    "print(X.shape, X_train.shape, X_test.shape)"
   ]
  },
  {
   "cell_type": "code",
   "execution_count": 33,
   "metadata": {},
   "outputs": [],
   "source": [
    "from sklearn.tree import DecisionTreeClassifier"
   ]
  },
  {
   "cell_type": "code",
   "execution_count": 34,
   "metadata": {},
   "outputs": [],
   "source": [
    "d_tree = DecisionTreeClassifier(random_state=0).fit(X_train,Y_train)"
   ]
  },
  {
   "cell_type": "code",
   "execution_count": 35,
   "metadata": {},
   "outputs": [],
   "source": [
    "classifier = DecisionTreeClassifier(random_state=1)"
   ]
  },
  {
   "cell_type": "code",
   "execution_count": 36,
   "metadata": {},
   "outputs": [
    {
     "data": {
      "text/plain": [
       "DecisionTreeClassifier(ccp_alpha=0.0, class_weight=None, criterion='gini',\n",
       "                       max_depth=None, max_features=None, max_leaf_nodes=None,\n",
       "                       min_impurity_decrease=0.0, min_impurity_split=None,\n",
       "                       min_samples_leaf=1, min_samples_split=2,\n",
       "                       min_weight_fraction_leaf=0.0, presort='deprecated',\n",
       "                       random_state=1, splitter='best')"
      ]
     },
     "execution_count": 36,
     "metadata": {},
     "output_type": "execute_result"
    }
   ],
   "source": [
    "#training the support vector Machine Classifier\n",
    "classifier.fit(X_train, Y_train)"
   ]
  },
  {
   "cell_type": "code",
   "execution_count": 37,
   "metadata": {},
   "outputs": [],
   "source": [
    "# accuracy score on the training data\n",
    "X_train_prediction = classifier.predict(X_train)\n",
    "training_data_accuracy = accuracy_score(X_train_prediction, Y_train)"
   ]
  },
  {
   "cell_type": "code",
   "execution_count": 38,
   "metadata": {},
   "outputs": [
    {
     "name": "stdout",
     "output_type": "stream",
     "text": [
      "Accuracy score of the training data :  0.975771971496437\n"
     ]
    }
   ],
   "source": [
    "print('Accuracy score of the training data : ', training_data_accuracy)"
   ]
  },
  {
   "cell_type": "code",
   "execution_count": 39,
   "metadata": {},
   "outputs": [],
   "source": [
    "# accuracy score on the test data\n",
    "X_test_prediction = classifier.predict(X_test)\n",
    "test_data_accuracy = accuracy_score(X_test_prediction, Y_test)"
   ]
  },
  {
   "cell_type": "code",
   "execution_count": 40,
   "metadata": {},
   "outputs": [
    {
     "name": "stdout",
     "output_type": "stream",
     "text": [
      "Accuracy score of the test data :  0.5806451612903226\n"
     ]
    }
   ],
   "source": [
    "print('Accuracy score of the test data : ', test_data_accuracy)"
   ]
  },
  {
   "cell_type": "code",
   "execution_count": 137,
   "metadata": {},
   "outputs": [
    {
     "name": "stdout",
     "output_type": "stream",
     "text": [
      "The person is 6 \n"
     ]
    }
   ],
   "source": [
    "input_data = [[1,1,1,1,1,85,3,2,2,5,2,1,4,1,2,2,1,1]]\n",
    "\n",
    "# changing the input_data to numpy array\n",
    "input_data_as_numpy_array = np.asarray(input_data)\n",
    "\n",
    "# reshape the array as we are predicting for one instance\n",
    "input_data_reshaped = input_data_as_numpy_array.reshape(1,-1)\n",
    "\n",
    "prediction = loaded_model.predict(input_data)\n",
    "prediction\n",
    "\n",
    "# if (prediction[0] == 0):\n",
    "#   print('The person is 1')\n",
    "# elif (prediction[1] == 1):\n",
    "#   print('The person is 2 ')\n",
    "# elif (prediction[3] == 3):\n",
    "#   print('The person is 3 ')\n",
    "# elif (prediction[4] == 4):\n",
    "#   print('The person is 4 ')\n",
    "# elif (prediction[5] == 5):\n",
    "#   print('The person is 5 ')\n",
    "# elif (prediction[6] == 6):\n",
    "#   print('The person is 6 ')\n",
    "# else:\n",
    "#   print('The person is 7 ')\n",
    "# else:\n",
    "#   print('The person is 7 ')\n",
    "if (prediction[0] == 0):\n",
    "        print('The person is 1')\n",
    "elif (prediction[0]+-4 == prediction[0]):\n",
    "        print('The person is 2 ')\n",
    "elif (prediction[0]+-3 == prediction[0]):\n",
    "        print('The person is 3 ')\n",
    "elif (prediction[0]+-2 == prediction[0]):\n",
    "        print('The person is 4 ')\n",
    "elif (prediction[0]+-1 == prediction[0]):\n",
    "        print('The person is 5 ')\n",
    "elif (prediction[0]+0 == prediction[0]):\n",
    "        print('The person is 6 ')\n",
    "elif (prediction[0]+1 == prediction[0]):\n",
    "        print('The person is 7 ')\n"
   ]
  },
  {
   "cell_type": "code",
   "execution_count": 138,
   "metadata": {},
   "outputs": [
    {
     "data": {
      "text/plain": [
       "numpy.ndarray"
      ]
     },
     "execution_count": 138,
     "metadata": {},
     "output_type": "execute_result"
    }
   ],
   "source": [
    "type(prediction)"
   ]
  },
  {
   "cell_type": "code",
   "execution_count": 41,
   "metadata": {},
   "outputs": [],
   "source": [
    "import pickle"
   ]
  },
  {
   "cell_type": "code",
   "execution_count": 42,
   "metadata": {},
   "outputs": [],
   "source": [
    "pickle.dump(classifier, open('classifier.pkl', 'wb'))"
   ]
  },
  {
   "cell_type": "code",
   "execution_count": 43,
   "metadata": {},
   "outputs": [],
   "source": [
    "classifier = pickle.load(open('classifier.pkl','rb'))"
   ]
  },
  {
   "cell_type": "code",
   "execution_count": 44,
   "metadata": {},
   "outputs": [],
   "source": [
    "with open(r'C:\\Users\\takniya\\Desktop\\project-STU\\classifier.pkl','wb') as f:\n",
    "    pickle.dump(classifier,f)"
   ]
  },
  {
   "cell_type": "code",
   "execution_count": 45,
   "metadata": {},
   "outputs": [],
   "source": [
    "filename = 'trained_model.sav'\n",
    "pickle.dump(classifier, open(filename, 'wb'))"
   ]
  },
  {
   "cell_type": "code",
   "execution_count": 46,
   "metadata": {},
   "outputs": [],
   "source": [
    "# loading the saved model\n",
    "loaded_model = pickle.load(open('trained_model.sav', 'rb'))"
   ]
  },
  {
   "cell_type": "code",
   "execution_count": 47,
   "metadata": {},
   "outputs": [],
   "source": [
    "# input_data = (5,166,72,19,175,25.8,0.587,51)\n",
    "\n",
    "# # changing the input_data to numpy array\n",
    "# input_data_as_numpy_array = np.asarray(input_data)\n",
    "\n",
    "# # reshape the array as we are predicting for one instance\n",
    "# input_data_reshaped = input_data_as_numpy_array.reshape(1,-1)\n",
    "\n",
    "# prediction = loaded_model.predict(input_data_reshaped)\n",
    "# print(prediction)\n",
    "\n",
    "# if (prediction[0] == 0):\n",
    "#   print('The person is not diabetic')\n",
    "# else:\n",
    "#   print('The person is diabetic')"
   ]
  },
  {
   "cell_type": "code",
   "execution_count": 164,
   "metadata": {},
   "outputs": [
    {
     "name": "stdout",
     "output_type": "stream",
     "text": [
      "[2]\n",
      "The person is 6 \n",
      "None\n"
     ]
    }
   ],
   "source": [
    "def diabetes_prediction(input_data):\n",
    "\n",
    "\n",
    "    prediction = loaded_model.predict(input_data)\n",
    "    print(prediction)\n",
    "\n",
    "    if (prediction[0] == 0):\n",
    "        print('The person is 1')\n",
    "    elif (prediction[0]+-4 == prediction[0]):\n",
    "        print('The person is 2 ')\n",
    "    elif (prediction[0]+-3 == prediction[0]):\n",
    "        print('The person is 3 ')\n",
    "    elif (prediction[0]+-2 == prediction[0]):\n",
    "        print('The person is 4 ')\n",
    "    elif (prediction[0]+-1 == prediction[0]):\n",
    "        print('The person is 5 ')\n",
    "    elif (prediction[0]+0 == prediction[0]):\n",
    "        print('The person is 6 ')\n",
    "    elif (prediction[0]+1 == prediction[0]):\n",
    "        print('The person is 7 ')\n",
    "  \n",
    "    \n",
    "def main():\n",
    "    \n",
    "    \n",
    "    \n",
    "    G = 1\n",
    "    HS = 1\n",
    "    N = 1\n",
    "    SC = 1\n",
    "    AD = 1\n",
    "    SS = 85\n",
    "    HS_AVG = 3\n",
    "    Q4 = 2\n",
    "    Q11 = 2\n",
    "    Q12 = 5\n",
    "    Q13 = 2\n",
    "    Q14 = 1\n",
    "    Q15 = 4\n",
    "    Q16 = 1\n",
    "    Q28 = 2\n",
    "    Q29 = 2\n",
    "    Q35 = 1\n",
    "    Q38 = 1\n",
    "\n",
    "\n",
    "        # code for Prediction\n",
    "#     diagnosis = ''\n",
    "\n",
    "        # creating a button for Prediction  \n",
    "    diagnosis = diabetes_prediction([[G, HS, N, SC, AD, SS, HS_AVG, Q4, Q11,Q12,Q13,Q14,Q15,Q16,Q28,Q29,Q35,Q38]])\n",
    "print(diabetes_prediction([[G, HS, N, SC, AD, SS, HS_AVG, Q4, Q11,Q12,Q13,Q14,Q15,Q16,Q28,Q29,Q35,Q38]]))\n",
    "print"
   ]
  },
  {
   "cell_type": "code",
   "execution_count": 49,
   "metadata": {},
   "outputs": [
    {
     "name": "stdout",
     "output_type": "stream",
     "text": [
      "[7]\n"
     ]
    }
   ],
   "source": [
    "G = 1\n",
    "HS = 1\n",
    "N = 1\n",
    "SC = 1\n",
    "AD = 1\n",
    "SS = 1\n",
    "HS_AVG = 90\n",
    "Q4 = 1\n",
    "Q11 = 1\n",
    "Q12 = 1\n",
    "Q13 = 1\n",
    "Q14 = 1\n",
    "Q15 = 1\n",
    "Q16 = 1\n",
    "Q28 = 1\n",
    "Q29 = 1\n",
    "Q35 = 1\n",
    "Q38 = 1\n",
    "data=[[G, HS, N, SC, AD, SS, HS_AVG, Q4, Q11,Q12,Q13,Q14,Q15,Q16,Q28,Q29,Q35,Q38]]\n",
    "prediction=loaded_model.predict(data)\n",
    "# if(prediction[0] == 0):\n",
    "#     print('The person is 1')\n",
    "# else:\n",
    "print(prediction)"
   ]
  },
  {
   "cell_type": "code",
   "execution_count": null,
   "metadata": {},
   "outputs": [],
   "source": []
  }
 ],
 "metadata": {
  "kernelspec": {
   "display_name": "Python 3",
   "language": "python",
   "name": "python3"
  },
  "language_info": {
   "codemirror_mode": {
    "name": "ipython",
    "version": 3
   },
   "file_extension": ".py",
   "mimetype": "text/x-python",
   "name": "python",
   "nbconvert_exporter": "python",
   "pygments_lexer": "ipython3",
   "version": "3.7.6"
  }
 },
 "nbformat": 4,
 "nbformat_minor": 4
}
